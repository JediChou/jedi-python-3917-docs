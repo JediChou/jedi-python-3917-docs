{
 "cells": [
  {
   "cell_type": "markdown",
   "id": "a8adc2e3-9369-4193-a864-19444f4637c5",
   "metadata": {},
   "source": [
    "# 4. 其他流程控制工具\n",
    "\n",
    "[Reference Link](https://docs.python.org/zh-cn/3.9/tutorial/controlflow.html)\n",
    "\n",
    "除了上一章介绍的 [while](https://docs.python.org/zh-cn/3.9/reference/compound_stmts.html#while) 语句，Python 还支持其他语言中常见的流程控制语句，只是稍有不同。"
   ]
  },
  {
   "cell_type": "markdown",
   "id": "faae45ad-4579-4e90-a24e-483c216ae586",
   "metadata": {},
   "source": [
    "<br>\n",
    "\n",
    "## 4.1. if 语句\n",
    "\n",
    "最让人耳熟能详的应该是 [if](https://docs.python.org/zh-cn/3.9/reference/compound_stmts.html#if) 语句。例如："
   ]
  },
  {
   "cell_type": "code",
   "execution_count": 1,
   "id": "00ffa71d-5c4c-4ed9-a404-f4d5f05ee7b8",
   "metadata": {},
   "outputs": [
    {
     "name": "stdin",
     "output_type": "stream",
     "text": [
      "Please enter an integer:  25\n"
     ]
    }
   ],
   "source": [
    "x = int(input(\"Please enter an integer: \"))"
   ]
  },
  {
   "cell_type": "code",
   "execution_count": 2,
   "id": "d2059d41-0456-487f-949d-26cdd97e109d",
   "metadata": {},
   "outputs": [
    {
     "name": "stdout",
     "output_type": "stream",
     "text": [
      "More\n"
     ]
    }
   ],
   "source": [
    "if x < 0:\n",
    "    x = 0\n",
    "    print('Negative changed to zero')\n",
    "elif x == 0:\n",
    "    print('Zero')\n",
    "elif x == 1:\n",
    "    print('Single')\n",
    "else:\n",
    "    print('More')"
   ]
  },
  {
   "cell_type": "markdown",
   "id": "94bf3ca5-d3b0-4f00-b493-1270493872e9",
   "metadata": {},
   "source": [
    "<br>\n",
    "\n",
    "if 语句包含零个或多个 [elif](https://docs.python.org/zh-cn/3.9/reference/compound_stmts.html#elif) 子句，及可选的 [else](https://docs.python.org/zh-cn/3.9/reference/compound_stmts.html#else) 子句。关键字 'elif' 是 'else if' 的缩写，适用于避免过多的缩进。可以把 `if ... elif ... elif ..`. 序列看作是其他语言中 `switch` 或 `case` 语句的替代品。"
   ]
  },
  {
   "cell_type": "markdown",
   "id": "4ef97a01-7312-4c0e-ad43-5d7b4128ffba",
   "metadata": {},
   "source": [
    "<br>\n",
    "\n",
    "## 4.2. for 语句\n",
    "\n",
    "Python 的 [for](https://docs.python.org/zh-cn/3.9/reference/compound_stmts.html#for) 语句与 C 或 Pascal 中的不同。Python 的 for 语句不迭代算术递增数值（如 Pascal），或是给予用户定义迭代步骤和暂停条件的能力（如 C），而是迭代列表或字符串等任意序列，元素的迭代顺序与在序列中出现的顺序一致。 例如："
   ]
  },
  {
   "cell_type": "code",
   "execution_count": 3,
   "id": "3e77035f-79e3-4d0c-a3ea-54da94eb8186",
   "metadata": {},
   "outputs": [
    {
     "name": "stdout",
     "output_type": "stream",
     "text": [
      "cat 3\n",
      "window 6\n",
      "defenestrate 12\n"
     ]
    }
   ],
   "source": [
    "# Measure some strings:\n",
    "words = ['cat', 'window', 'defenestrate']\n",
    "for w in words:\n",
    "    print(w, len(w))"
   ]
  },
  {
   "cell_type": "markdown",
   "id": "f91a5aaa-99d0-446e-883d-7c6bcc785b96",
   "metadata": {},
   "source": [
    "<br>\n",
    "\n",
    "遍历某个集合的同时修改该集合的内容，很难获取想要的结果。要在遍历时修改集合的内容，应该遍历该集合的副本或创建新的集合：\n",
    "\n",
    "```python\n",
    "# Strategy:  Iterate over a copy\n",
    "for user, status in users.copy().items():\n",
    "    if status == 'inactive':\n",
    "        del users[user]\n",
    "\n",
    "# Strategy:  Create a new collection\n",
    "active_users = {}\n",
    "for user, status in users.items():\n",
    "    if status == 'active':\n",
    "        active_users[user] = status\n",
    "```\n"
   ]
  },
  {
   "cell_type": "markdown",
   "id": "c5d97eab-ea39-4136-b0be-0cfccde26116",
   "metadata": {},
   "source": [
    "<br>\n",
    "\n",
    "## 4.3. range() 函数\n",
    "\n",
    "内置函数 [range()](https://docs.python.org/zh-cn/3.9/library/stdtypes.html#range) 常用于遍历数字序列，该函数可以生成算术级数："
   ]
  },
  {
   "cell_type": "code",
   "execution_count": 4,
   "id": "ed6519eb-3726-4927-aefd-64de8c75be12",
   "metadata": {},
   "outputs": [
    {
     "name": "stdout",
     "output_type": "stream",
     "text": [
      "0\n",
      "1\n",
      "2\n",
      "3\n",
      "4\n"
     ]
    }
   ],
   "source": [
    "for i in range(5):\n",
    "    print(i)"
   ]
  },
  {
   "cell_type": "markdown",
   "id": "d30e8d4c-fee0-4b2f-842e-946ea4c02779",
   "metadata": {},
   "source": [
    "<br>\n",
    "\n",
    "生成的序列不包含给定的终止数值；`range(10)` 生成 10 个值，这是一个长度为 10 的序列，其中的元素索引都是合法的。range 可以不从 0 开始，还可以按指定幅度递增（递增幅度称为 '步进'，支持负数）："
   ]
  },
  {
   "cell_type": "code",
   "execution_count": 5,
   "id": "549644a7-a87d-462c-a239-bfbcea3edc7e",
   "metadata": {},
   "outputs": [
    {
     "data": {
      "text/plain": [
       "[5, 6, 7, 8, 9]"
      ]
     },
     "execution_count": 5,
     "metadata": {},
     "output_type": "execute_result"
    }
   ],
   "source": [
    "list(range(5, 10))"
   ]
  },
  {
   "cell_type": "code",
   "execution_count": 6,
   "id": "d8a691be-e782-43d1-9d46-fe275ebc4314",
   "metadata": {},
   "outputs": [
    {
     "data": {
      "text/plain": [
       "[0, 3, 6, 9]"
      ]
     },
     "execution_count": 6,
     "metadata": {},
     "output_type": "execute_result"
    }
   ],
   "source": [
    "list(range(0, 10, 3))"
   ]
  },
  {
   "cell_type": "code",
   "execution_count": 7,
   "id": "d513acde-7202-4f95-996f-a5f45acdc4fc",
   "metadata": {},
   "outputs": [
    {
     "data": {
      "text/plain": [
       "[-10, -40, -70]"
      ]
     },
     "execution_count": 7,
     "metadata": {},
     "output_type": "execute_result"
    }
   ],
   "source": [
    "list(range(-10, -100, -30))"
   ]
  },
  {
   "cell_type": "markdown",
   "id": "481059c2-32a5-490b-a8cd-545f2f83b45e",
   "metadata": {},
   "source": [
    "<br>\n",
    "\n",
    "[range()](https://docs.python.org/zh-cn/3.9/library/stdtypes.html#range) 和 [len()](https://docs.python.org/zh-cn/3.9/library/functions.html#len) 组合在一起，可以按索引迭代序列："
   ]
  },
  {
   "cell_type": "code",
   "execution_count": 8,
   "id": "2ff0104c-8010-4a36-9e27-f0bd51d343a9",
   "metadata": {},
   "outputs": [
    {
     "name": "stdout",
     "output_type": "stream",
     "text": [
      "0 Mary\n",
      "1 had\n",
      "2 a\n",
      "3 little\n",
      "4 lamb\n"
     ]
    }
   ],
   "source": [
    "a = ['Mary', 'had', 'a', 'little', 'lamb']\n",
    "for i in range(len(a)):\n",
    "    print(i, a[i])"
   ]
  },
  {
   "cell_type": "markdown",
   "id": "23d31d19-ac56-42df-bf10-e35e70ed405e",
   "metadata": {},
   "source": [
    "<br>\n",
    "\n",
    "不过，大多数情况下，[enumerate()](https://docs.python.org/zh-cn/3.9/library/functions.html#enumerate) 函数更便捷，详见 [循环的技巧](https://docs.python.org/zh-cn/3.9/tutorial/datastructures.html#tut-loopidioms) 。\n",
    "\n",
    "如果只输出 range，会出现意想不到的结果："
   ]
  },
  {
   "cell_type": "code",
   "execution_count": 9,
   "id": "5de4feed-165a-4516-a157-76a35e6620fa",
   "metadata": {},
   "outputs": [
    {
     "data": {
      "text/plain": [
       "range(0, 10)"
      ]
     },
     "execution_count": 9,
     "metadata": {},
     "output_type": "execute_result"
    }
   ],
   "source": [
    "range(10)"
   ]
  },
  {
   "cell_type": "markdown",
   "id": "774e584d-d077-4711-bb09-2f9b650c9935",
   "metadata": {},
   "source": [
    "<br>\n",
    "\n",
    "[range()](https://docs.python.org/zh-cn/3.9/library/stdtypes.html#range) 返回对象的操作和列表很像，但其实这两种对象不是一回事。迭代时，该对象基于所需序列返回连续项，并没有生成真正的列表，从而节省了空间。\n",
    "\n",
    "这种对象称为可迭代对象 [iterable](https://docs.python.org/zh-cn/3.9/glossary.html#term-iterable)，函数或程序结构可通过该对象获取连续项，直到所有元素全部迭代完毕。[for](https://docs.python.org/zh-cn/3.9/reference/compound_stmts.html#for) 语句就是这样的架构，[sum()](https://docs.python.org/zh-cn/3.9/library/functions.html#sum) 是一种把可迭代对象作为参数的函数：\n"
   ]
  },
  {
   "cell_type": "code",
   "execution_count": 10,
   "id": "e680ab72-16ff-4095-99a3-1dca7bfb9ad0",
   "metadata": {},
   "outputs": [
    {
     "data": {
      "text/plain": [
       "6"
      ]
     },
     "execution_count": 10,
     "metadata": {},
     "output_type": "execute_result"
    }
   ],
   "source": [
    "sum(range(4))  # 0 + 1 + 2 + 3"
   ]
  },
  {
   "cell_type": "markdown",
   "id": "f0842553-d268-4444-b00f-b70ca7f63e43",
   "metadata": {},
   "source": [
    "<br>\n",
    "\n",
    "下文将介绍更多返回可迭代对象或把可迭代对象当作参数的函数。 在 [数据结构](https://docs.python.org/zh-cn/3.9/tutorial/datastructures.html#tut-structures) 这一章节中，我们将讨论有关 [list()](https://docs.python.org/zh-cn/3.9/library/stdtypes.html#list) 的更多细节。"
   ]
  },
  {
   "cell_type": "markdown",
   "id": "3edfebe6-5604-4107-8f05-9569889ce931",
   "metadata": {},
   "source": [
    "<br>\n",
    "\n",
    "## 4.4. 循环中的 break、continue 语句及 else 子句\n",
    "\n",
    "break 语句和 C 中的类似，用于跳出最近的 for 或 while 循环。\n",
    "\n",
    "循环语句支持 else 子句；for 循环中，可迭代对象中的元素全部循环完毕时，或 while 循环的条件为假时，执行该子句；break 语句终止循环时，不执行该子句。 请看下面这个查找素数的循环示例：\n"
   ]
  },
  {
   "cell_type": "code",
   "execution_count": 11,
   "id": "e649c149-a592-41b9-8489-963273a7f3b0",
   "metadata": {},
   "outputs": [
    {
     "name": "stdout",
     "output_type": "stream",
     "text": [
      "2 is a prime number\n",
      "3 is a prime number\n",
      "4 equals 2 * 2\n",
      "5 is a prime number\n",
      "6 equals 2 * 3\n",
      "7 is a prime number\n",
      "8 equals 2 * 4\n",
      "9 equals 3 * 3\n"
     ]
    }
   ],
   "source": [
    "for n in range(2, 10):\n",
    "    for x in range(2, n):\n",
    "        if n % x == 0:\n",
    "            print(n, 'equals', x, '*', n//x)\n",
    "            break\n",
    "    else:\n",
    "        # loop fell through without finding a factor\n",
    "        print(n, 'is a prime number')"
   ]
  },
  {
   "cell_type": "markdown",
   "id": "48311ea5-072f-4cd1-bc15-f9416c19fb92",
   "metadata": {},
   "source": [
    "<br>\n",
    "\n",
    "（没错，这段代码就是这么写。仔细看：else 子句属于 for 循环，不属于 if 语句。）\n",
    "\n",
    "continue 语句也借鉴自 C 语言，表示继续执行循环的下一次迭代："
   ]
  },
  {
   "cell_type": "code",
   "execution_count": 12,
   "id": "8dd7e3bc-0bdf-4aaa-a3d1-3866d5479671",
   "metadata": {},
   "outputs": [
    {
     "name": "stdout",
     "output_type": "stream",
     "text": [
      "Found an even number 2\n",
      "Found an odd number 3\n",
      "Found an even number 4\n",
      "Found an odd number 5\n",
      "Found an even number 6\n",
      "Found an odd number 7\n",
      "Found an even number 8\n",
      "Found an odd number 9\n"
     ]
    }
   ],
   "source": [
    "for num in range(2, 10):\n",
    "    if num % 2 == 0:\n",
    "        print(\"Found an even number\", num)\n",
    "        continue\n",
    "    print(\"Found an odd number\", num)"
   ]
  },
  {
   "cell_type": "markdown",
   "id": "66a111a7-3194-467b-a929-f21a49c46014",
   "metadata": {},
   "source": [
    "<br>\n",
    "\n",
    "## 4.5. pass 语句\n",
    "\n",
    "pass 语句不执行任何操作。语法上需要一个语句，但程序不实际执行任何动作时，可以使用该语句。例如：\n",
    "\n",
    "```python\n",
    "while True:\n",
    "    pass\n",
    "```"
   ]
  },
  {
   "cell_type": "markdown",
   "id": "34f6ee4a-734d-44c3-a21a-d5eb4b0739d2",
   "metadata": {},
   "source": [
    "<br>\n",
    "\n",
    "下面这段代码创建了一个最小的类："
   ]
  },
  {
   "cell_type": "code",
   "execution_count": 13,
   "id": "a8018774-6528-483f-8cd0-94ccef259a19",
   "metadata": {},
   "outputs": [],
   "source": [
    "class MyEmptyClass:\n",
    "    pass"
   ]
  },
  {
   "cell_type": "markdown",
   "id": "85fb05ff-457a-4d54-9dcf-6ba7dc9a9902",
   "metadata": {},
   "source": [
    "<br>\n",
    "\n",
    "pass 还可以用作函数或条件子句的占位符，让开发者聚焦更抽象的层次。此时，程序直接忽略 pass："
   ]
  },
  {
   "cell_type": "code",
   "execution_count": 14,
   "id": "53e6bbe8-72e4-4ae6-9b60-f96e758c4a9c",
   "metadata": {},
   "outputs": [],
   "source": [
    "def initlog(*args):\n",
    "    pass   # Remember to implement this!"
   ]
  },
  {
   "cell_type": "markdown",
   "id": "3dff44fd-bf8d-4e7f-8a33-1fa3977c9efc",
   "metadata": {},
   "source": [
    "<br>\n",
    "\n",
    "## 4.6. 定义函数\n",
    "\n",
    "下列代码创建一个可以输出限定数值内的斐波那契数列函数："
   ]
  },
  {
   "cell_type": "code",
   "execution_count": 15,
   "id": "18eb3d4a-adf3-4911-8deb-29bb6384442b",
   "metadata": {},
   "outputs": [
    {
     "name": "stdout",
     "output_type": "stream",
     "text": [
      "0 1 1 2 3 5 8 13 21 34 55 89 144 233 377 610 987 1597 \n"
     ]
    }
   ],
   "source": [
    "# write Fibonacci series up to n\n",
    "def fib(n):\n",
    "    \"\"\"Print a Fibonacci series up to n.\"\"\"\n",
    "    a, b = 0, 1\n",
    "    while a < n:\n",
    "        print(a, end=' ')\n",
    "        a, b = b, a+b\n",
    "    print()\n",
    "\n",
    "# Now call the function we just defined:\n",
    "fib(2000)"
   ]
  },
  {
   "cell_type": "markdown",
   "id": "f3d0913a-bf0c-4155-8e93-5d34e8619bd2",
   "metadata": {},
   "source": [
    "<br>\n",
    "\n",
    "定义 函数使用关键字 [def](https://docs.python.org/zh-cn/3.9/reference/compound_stmts.html#def)，后跟函数名与括号内的形参列表。函数语句从下一行开始，并且必须缩进。\n",
    "\n",
    "函数内的第一条语句是字符串时，该字符串就是文档字符串，也称为 *docstring*，详见 [文档字符串](https://docs.python.org/zh-cn/3.9/tutorial/controlflow.html#tut-docstrings)。利用文档字符串可以自动生成在线文档或打印版文档，还可以让开发者在浏览代码时直接查阅文档；Python 开发者最好养成在代码中加入文档字符串的好习惯。\n",
    "\n",
    "函数在 *执行* 时使用函数局部变量符号表，所有函数变量赋值都存在局部符号表中；引用变量时，首先，在局部符号表里查找变量，然后，是外层函数局部符号表，再是全局符号表，最后是内置名称符号表。因此，尽管可以引用全局变量和外层函数的变量，但最好不要在函数内直接赋值（除非是 [global](https://docs.python.org/zh-cn/3.9/reference/simple_stmts.html#global) 语句定义的全局变量，或 [nonlocal](https://docs.python.org/zh-cn/3.9/reference/simple_stmts.html#nonlocal) 语句定义的外层函数变量）。\n",
    "\n",
    "在调用函数时会将实际参数（实参）引入到被调用函数的局部符号表中；因此，实参是使用 *按值调用* 来传递的（其中的 *值* 始终是对象的 *引用* 而不是对象的值）。 1 当一个函数调用另外一个函数时，会为该调用创建一个新的局部符号表。\n",
    "\n",
    "函数定义在当前符号表中把函数名与函数对象关联在一起。解释器把函数名指向的对象作为用户自定义函数。还可以使用其他名称指向同一个函数对象，并访问访该函数："
   ]
  },
  {
   "cell_type": "code",
   "execution_count": 16,
   "id": "ee47c055-087b-42e5-9fd8-ce6763d05d18",
   "metadata": {},
   "outputs": [
    {
     "data": {
      "text/plain": [
       "<function __main__.fib(n)>"
      ]
     },
     "execution_count": 16,
     "metadata": {},
     "output_type": "execute_result"
    }
   ],
   "source": [
    "fib"
   ]
  },
  {
   "cell_type": "code",
   "execution_count": 17,
   "id": "eb5280d0-7992-4f74-bcd7-5609ad22a937",
   "metadata": {},
   "outputs": [
    {
     "name": "stdout",
     "output_type": "stream",
     "text": [
      "0 1 1 2 3 5 8 13 21 34 55 89 \n"
     ]
    }
   ],
   "source": [
    "f = fib\n",
    "f(100)"
   ]
  },
  {
   "cell_type": "markdown",
   "id": "2e6c0508-3648-4e44-87b6-c75cddef0e54",
   "metadata": {},
   "source": [
    "<br>\n",
    "\n",
    "`fib` 不返回值，因此，其他语言不把它当作函数，而是当作过程。事实上，没有 [return](https://docs.python.org/zh-cn/3.9/reference/simple_stmts.html#return) 语句的函数也返回值，尽管它是一个相当无聊的值。这个值叫 `None` （它是一个内置名称）。一般来说，解释器不会输出单独的返回值 `None` ，如需查看该值，可以使用 [print()](https://docs.python.org/zh-cn/3.9/library/functions.html#print)：\n"
   ]
  },
  {
   "cell_type": "code",
   "execution_count": 18,
   "id": "7ae197cc-83da-49a0-9e60-c7299a3f01bf",
   "metadata": {},
   "outputs": [
    {
     "name": "stdout",
     "output_type": "stream",
     "text": [
      "\n",
      "\n",
      "None\n"
     ]
    }
   ],
   "source": [
    "fib(0)\n",
    "print(fib(0))"
   ]
  },
  {
   "cell_type": "markdown",
   "id": "d3296041-e061-4291-bcd3-8702cbeb50b7",
   "metadata": {},
   "source": [
    "<br>\n",
    "\n",
    "编写不直接输出斐波那契数列运算结果，而是返回运算结果列表的函数也非常简单："
   ]
  },
  {
   "cell_type": "code",
   "execution_count": 19,
   "id": "1b7d99d4-b472-4e4c-9781-c6ca08f50cfe",
   "metadata": {},
   "outputs": [
    {
     "data": {
      "text/plain": [
       "[0, 1, 1, 2, 3, 5, 8, 13, 21, 34, 55, 89]"
      ]
     },
     "execution_count": 19,
     "metadata": {},
     "output_type": "execute_result"
    }
   ],
   "source": [
    "def fib2(n):  # return Fibonacci series up to n\n",
    "    \"\"\"Return a list containing the Fibonacci series up to n.\"\"\"\n",
    "    result = []\n",
    "    a, b = 0, 1\n",
    "    while a < n:\n",
    "        result.append(a)    # see below\n",
    "        a, b = b, a+b\n",
    "    return result\n",
    "f100 = fib2(100)    # call it\n",
    "f100                # write the result"
   ]
  },
  {
   "cell_type": "markdown",
   "id": "37878b09-b5c5-405c-8daf-cc3b449e395e",
   "metadata": {},
   "source": [
    "<br>\n",
    "\n",
    "本例也新引入了一些 Python 功能：\n",
    "\n",
    "* [return](https://docs.python.org/zh-cn/3.9/reference/simple_stmts.html#return) 语句返回函数的值。return 语句不带表达式参数时，返回 `None`。函数执行完毕退出也返回 `None`。\n",
    "* `result.append(a)` 语句调用了列表对象 `result` 的 方法 。方法是“从属于”对象的函数，命名为 `obj.methodname`，`obj` 是对象（也可以是表达式），`methodname` 是对象类型定义的方法名。不同类型定义不同的方法，不同类型的方法名可以相同，且不会引起歧义。（用 *类* 可以自定义对象类型和方法，详见 [类](https://docs.python.org/zh-cn/3.9/tutorial/classes.html#tut-classes) ）示例中的方法 append() 是为列表对象定义的，用于在列表末尾添加新元素。本例中，该方法相当于 `result = result + [a]` ，但更有效。"
   ]
  },
  {
   "cell_type": "markdown",
   "id": "5ce12898-9662-44ec-812a-fcb58bf2c80e",
   "metadata": {},
   "source": [
    "<br>\n",
    "\n",
    "## 4.7. 函数定义详解\n",
    "\n",
    "函数定义支持可变数量的参数。这里列出三种可以组合使用的形式。"
   ]
  },
  {
   "cell_type": "markdown",
   "id": "674b5587-b9ab-4e22-86de-828fbb288437",
   "metadata": {},
   "source": [
    "<br>\n",
    "\n",
    "### 4.7.1. 默认值参数\n",
    "\n",
    "为参数指定默认值是非常有用的方式。调用函数时，可以使用比定义时更少的参数，例如："
   ]
  },
  {
   "cell_type": "code",
   "execution_count": 20,
   "id": "6145ab6a-9fd5-45af-988d-d5ed85f4ae45",
   "metadata": {},
   "outputs": [],
   "source": [
    "def ask_ok(prompt, retries=4, reminder='Please try again!'):\n",
    "    while True:\n",
    "        ok = input(prompt)\n",
    "        if ok in ('y', 'ye', 'yes'):\n",
    "            return True\n",
    "        if ok in ('n', 'no', 'nop', 'nope'):\n",
    "            return False\n",
    "        retries = retries - 1\n",
    "        if retries < 0:\n",
    "            raise ValueError('invalid user response')\n",
    "        print(reminder)"
   ]
  },
  {
   "cell_type": "markdown",
   "id": "178037f5-2481-4426-9eea-1d7dc218da7c",
   "metadata": {},
   "source": [
    "<br>\n",
    "\n",
    "该函数可以用以下方式调用：\n",
    "\n",
    "* 只给出必选实参：`ask_ok('Do you really want to quit?')`\n",
    "* 给出一个可选实参：`ask_ok('OK to overwrite the file?', 2)`\n",
    "* 给出所有实参：`ask_ok('OK to overwrite the file?', 2, 'Come on, only yes or no!')`\n",
    "\n",
    "本例还使用了关键字 [in](https://docs.python.org/zh-cn/3.9/reference/expressions.html#in) ，用于确认序列中是否包含某个值。\n",
    "\n",
    "默认值在 *定义* 作用域里的函数定义中求值，所以："
   ]
  },
  {
   "cell_type": "code",
   "execution_count": 21,
   "id": "b1f63d39-72f5-4166-a588-55b8a65be10a",
   "metadata": {},
   "outputs": [
    {
     "name": "stdout",
     "output_type": "stream",
     "text": [
      "5\n"
     ]
    }
   ],
   "source": [
    "i = 5\n",
    "\n",
    "def f(arg=i):\n",
    "    print(arg)\n",
    "\n",
    "i = 6\n",
    "f()"
   ]
  },
  {
   "cell_type": "markdown",
   "id": "a136de01-3654-4a6a-929c-d22641226d0d",
   "metadata": {},
   "source": [
    "<br>\n",
    "\n",
    "上例输出的是 `5`。\n",
    "\n",
    "**重要警告**： 默认值只计算一次。默认值为列表、字典或类实例等可变对象时，会产生与该规则不同的结果。例如，下面的函数会累积后续调用时传递的参数："
   ]
  },
  {
   "cell_type": "code",
   "execution_count": 22,
   "id": "55167aca-9968-488b-b7b9-e4c762edb7de",
   "metadata": {},
   "outputs": [
    {
     "name": "stdout",
     "output_type": "stream",
     "text": [
      "[1]\n",
      "[1, 2]\n",
      "[1, 2, 3]\n"
     ]
    }
   ],
   "source": [
    "def f(a, L=[]):\n",
    "    L.append(a)\n",
    "    return L\n",
    "\n",
    "print(f(1))\n",
    "print(f(2))\n",
    "print(f(3))"
   ]
  },
  {
   "cell_type": "markdown",
   "id": "0e3e65a8-5e06-4c13-ad86-d246876ca8ac",
   "metadata": {},
   "source": [
    "<br>\n",
    "\n",
    "不想在后续调用之间共享默认值时，应以如下方式编写函数："
   ]
  },
  {
   "cell_type": "code",
   "execution_count": 23,
   "id": "3bef2811-2253-4938-9b59-b58716649c81",
   "metadata": {},
   "outputs": [],
   "source": [
    "def f(a, L=None):\n",
    "    if L is None:\n",
    "        L = []\n",
    "    L.append(a)\n",
    "    return L"
   ]
  },
  {
   "cell_type": "markdown",
   "id": "81c0c836-c880-4fe2-9beb-86eb3900db22",
   "metadata": {},
   "source": [
    "<br>\n",
    "\n",
    "### 4.7.2. 关键字参数\n",
    "\n",
    "`kwarg=value` 形式的 [关键字参数](https://docs.python.org/zh-cn/3.9/glossary.html#term-keyword-argument) 也可以用于调用函数。函数示例如下："
   ]
  },
  {
   "cell_type": "code",
   "execution_count": 24,
   "id": "a796be23-7b76-424f-8ffd-51fbe70cbbc2",
   "metadata": {},
   "outputs": [],
   "source": [
    "def parrot(voltage, state='a stiff', action='voom', type='Norwegian Blue'):\n",
    "    print(\"-- This parrot wouldn't\", action, end=' ')\n",
    "    print(\"if you put\", voltage, \"volts through it.\")\n",
    "    print(\"-- Lovely plumage, the\", type)\n",
    "    print(\"-- It's\", state, \"!\")"
   ]
  },
  {
   "cell_type": "markdown",
   "id": "8a9a3764-485b-4d57-9644-d662692651ab",
   "metadata": {},
   "source": [
    "<br>\n",
    "\n",
    "该函数接受一个必选参数（`voltage`）和三个可选参数（`state`, `action` 和 `type`）。该函数可用下列方式调用："
   ]
  },
  {
   "cell_type": "code",
   "execution_count": 25,
   "id": "5db75f82-a4c9-4548-9eb3-38fa56c4d9f4",
   "metadata": {},
   "outputs": [
    {
     "name": "stdout",
     "output_type": "stream",
     "text": [
      "-- This parrot wouldn't voom if you put 1000 volts through it.\n",
      "-- Lovely plumage, the Norwegian Blue\n",
      "-- It's a stiff !\n",
      "-- This parrot wouldn't voom if you put 1000 volts through it.\n",
      "-- Lovely plumage, the Norwegian Blue\n",
      "-- It's a stiff !\n",
      "-- This parrot wouldn't VOOOOOM if you put 1000000 volts through it.\n",
      "-- Lovely plumage, the Norwegian Blue\n",
      "-- It's a stiff !\n",
      "-- This parrot wouldn't VOOOOOM if you put 1000000 volts through it.\n",
      "-- Lovely plumage, the Norwegian Blue\n",
      "-- It's a stiff !\n",
      "-- This parrot wouldn't jump if you put a million volts through it.\n",
      "-- Lovely plumage, the Norwegian Blue\n",
      "-- It's bereft of life !\n",
      "-- This parrot wouldn't voom if you put a thousand volts through it.\n",
      "-- Lovely plumage, the Norwegian Blue\n",
      "-- It's pushing up the daisies !\n"
     ]
    }
   ],
   "source": [
    "parrot(1000)                                          # 1 positional argument\n",
    "parrot(voltage=1000)                                  # 1 keyword argument\n",
    "parrot(voltage=1000000, action='VOOOOOM')             # 2 keyword arguments\n",
    "parrot(action='VOOOOOM', voltage=1000000)             # 2 keyword arguments\n",
    "parrot('a million', 'bereft of life', 'jump')         # 3 positional arguments\n",
    "parrot('a thousand', state='pushing up the daisies')  # 1 positional, 1 keyword"
   ]
  },
  {
   "cell_type": "markdown",
   "id": "98b3d610-de1c-4d1d-aef3-5c9db178bbbd",
   "metadata": {},
   "source": [
    "<br>\n",
    "\n",
    "以下调用函数的方式都无效：\n",
    "\n",
    "```python\n",
    "parrot()                     # required argument missing\n",
    "parrot(voltage=5.0, 'dead')  # non-keyword argument after a keyword argument\n",
    "parrot(110, voltage=220)     # duplicate value for the same argument\n",
    "parrot(actor='John Cleese')  # unknown keyword argument\n",
    "```\n",
    "\n",
    "函数调用时，关键字参数必须跟在位置参数后面。所有传递的关键字参数都必须匹配一个函数接受的参数（比如，`actor` 不是函数 `parrot` 的有效参数），关键字参数的顺序并不重要。这也包括必选参数，（比如，`parrot(voltage=1000)` 也有效）。不能对同一个参数多次赋值，下面就是一个因此限制而失败的例子：\n"
   ]
  },
  {
   "cell_type": "code",
   "execution_count": 26,
   "id": "c66f9d1e-858f-4659-abdc-45ad30bfba91",
   "metadata": {},
   "outputs": [
    {
     "ename": "TypeError",
     "evalue": "function() got multiple values for argument 'a'",
     "output_type": "error",
     "traceback": [
      "\u001b[1;31m---------------------------------------------------------------------------\u001b[0m",
      "\u001b[1;31mTypeError\u001b[0m                                 Traceback (most recent call last)",
      "\u001b[1;32m~\\AppData\\Local\\Temp/ipykernel_14464/3300866771.py\u001b[0m in \u001b[0;36m<module>\u001b[1;34m\u001b[0m\n\u001b[0;32m      1\u001b[0m \u001b[1;32mdef\u001b[0m \u001b[0mfunction\u001b[0m\u001b[1;33m(\u001b[0m\u001b[0ma\u001b[0m\u001b[1;33m)\u001b[0m\u001b[1;33m:\u001b[0m\u001b[1;33m\u001b[0m\u001b[1;33m\u001b[0m\u001b[0m\n\u001b[0;32m      2\u001b[0m     \u001b[1;32mpass\u001b[0m\u001b[1;33m\u001b[0m\u001b[1;33m\u001b[0m\u001b[0m\n\u001b[1;32m----> 3\u001b[1;33m \u001b[0mfunction\u001b[0m\u001b[1;33m(\u001b[0m\u001b[1;36m0\u001b[0m\u001b[1;33m,\u001b[0m \u001b[0ma\u001b[0m\u001b[1;33m=\u001b[0m\u001b[1;36m0\u001b[0m\u001b[1;33m)\u001b[0m\u001b[1;33m\u001b[0m\u001b[1;33m\u001b[0m\u001b[0m\n\u001b[0m",
      "\u001b[1;31mTypeError\u001b[0m: function() got multiple values for argument 'a'"
     ]
    }
   ],
   "source": [
    "def function(a):\n",
    "    pass\n",
    "function(0, a=0)"
   ]
  },
  {
   "cell_type": "markdown",
   "id": "f2c73c34-1cd7-4bf7-85c4-6f29d6bf1335",
   "metadata": {},
   "source": [
    "<br>\n",
    "\n",
    "最后一个形参为 `**name` 形式时，接收一个字典（详见 [映射类型 --- dict](https://docs.python.org/zh-cn/3.9/library/stdtypes.html#typesmapping)），该字典包含与函数中已定义形参对应之外的所有关键字参数。`**name` 形参可以与 `*name` 形参（下一小节介绍）组合使用（`*name` 必须在 `**name` 前面）， `*name` 形参接收一个 [元组](https://docs.python.org/zh-cn/3.9/tutorial/datastructures.html#tut-tuples)，该元组包含形参列表之外的位置参数。例如，可以定义下面这样的函数："
   ]
  },
  {
   "cell_type": "code",
   "execution_count": 27,
   "id": "c824851d-8c14-40c6-bae5-d6bba073de8c",
   "metadata": {},
   "outputs": [],
   "source": [
    "def cheeseshop(kind, *arguments, **keywords):\n",
    "    print(\"-- Do you have any\", kind, \"?\")\n",
    "    print(\"-- I'm sorry, we're all out of\", kind)\n",
    "    for arg in arguments:\n",
    "        print(arg)\n",
    "    print(\"-\" * 40)\n",
    "    for kw in keywords:\n",
    "        print(kw, \":\", keywords[kw])"
   ]
  },
  {
   "cell_type": "markdown",
   "id": "1ca4518a-2ae5-43b9-8733-9c738885ee18",
   "metadata": {},
   "source": [
    "<br>\n",
    "\n",
    "该函数可以用如下方式调用："
   ]
  },
  {
   "cell_type": "code",
   "execution_count": 28,
   "id": "40ebabcd-7fad-4589-976d-29d642cdfd25",
   "metadata": {},
   "outputs": [
    {
     "name": "stdout",
     "output_type": "stream",
     "text": [
      "-- Do you have any Limburger ?\n",
      "-- I'm sorry, we're all out of Limburger\n",
      "It's very runny, sir.\n",
      "It's really very, VERY runny, sir.\n",
      "----------------------------------------\n",
      "shopkeeper : Michael Palin\n",
      "client : John Cleese\n",
      "sketch : Cheese Shop Sketch\n"
     ]
    }
   ],
   "source": [
    "cheeseshop(\"Limburger\", \"It's very runny, sir.\",\n",
    "           \"It's really very, VERY runny, sir.\",\n",
    "           shopkeeper=\"Michael Palin\",\n",
    "           client=\"John Cleese\",\n",
    "           sketch=\"Cheese Shop Sketch\")"
   ]
  },
  {
   "cell_type": "markdown",
   "id": "2bd8fc10-4a7b-4f93-8e00-a0d3fdf33b07",
   "metadata": {},
   "source": [
    "<br>\n",
    "\n",
    "注意，关键字参数在输出结果中的顺序与调用函数时的顺序一致。"
   ]
  },
  {
   "cell_type": "markdown",
   "id": "c3d1e194-8fe0-467f-a393-9a898cb750e5",
   "metadata": {},
   "source": [
    "<br>\n",
    "\n",
    "### 4.7.3. 特殊参数\n",
    "\n",
    "默认情况下，参数可以按位置或显式关键字传递给 Python 函数。为了让代码易读、高效，最好限制参数的传递方式，这样，开发者只需查看函数定义，即可确定参数项是仅按位置、按位置或关键字，还是仅按关键字传递。\n",
    "\n",
    "函数定义如下：\n",
    "\n",
    "```raw\n",
    "def f(pos1, pos2, /, pos_or_kwd, *, kwd1, kwd2):\n",
    "      -----------    ----------     ----------\n",
    "        |             |                  |\n",
    "        |        Positional or keyword   |\n",
    "        |                                - Keyword only\n",
    "         -- Positional only\n",
    "```\n",
    "\n",
    "`/` 和 `*` 是可选的。这些符号表明形参如何把参数值传递给函数：位置、位置或关键字、关键字。关键字形参也叫作命名形参。"
   ]
  },
  {
   "cell_type": "markdown",
   "id": "77767539-31a6-408e-86c8-ca09015a1ff8",
   "metadata": {},
   "source": [
    "<br>\n",
    "\n",
    "#### 4.7.3.1. 位置或关键字参数\n",
    "\n",
    "函数定义中未使用 `/` 和 `*` 时，参数可以按位置或关键字传递给函数。"
   ]
  },
  {
   "cell_type": "markdown",
   "id": "eb6c9390-a1af-4368-afb2-0c51677140a2",
   "metadata": {},
   "source": [
    "<br>\n",
    "\n",
    "#### 4.7.3.2. 仅位置参数\n",
    "\n",
    "此处再介绍一些细节，特定形参可以标记为 仅限位置。仅限位置 时，形参的顺序很重要，且这些形参不能用关键字传递。仅限位置形参应放在 `/` （正斜杠）前。`/` 用于在逻辑上分割仅限位置形参与其它形参。如果函数定义中没有 `/`，则表示没有仅限位置形参。\n",
    "\n",
    "#### 4.7.3.3. 仅限关键字参数\n",
    "\n",
    "`/` 后可以是 位置或关键字 或 *仅限关键字* 形参。\n",
    "\n",
    "#### 4.7.3.4. 函数示例"
   ]
  },
  {
   "cell_type": "code",
   "execution_count": 29,
   "id": "f993bada-681e-40d1-a8d5-edae905fedab",
   "metadata": {},
   "outputs": [],
   "source": [
    "def standard_arg(arg):\n",
    "    print(arg)\n",
    "\n",
    "def pos_only_arg(arg, /):\n",
    "    print(arg)\n",
    "    \n",
    "def kwd_only_arg(*, arg):\n",
    "    print(arg)\n",
    "    \n",
    "def combined_example(pos_only, /, standard, *, kwd_only):\n",
    "    print(pos_only, standard, kwd_only)"
   ]
  },
  {
   "cell_type": "markdown",
   "id": "91144284-c7cc-4f5e-9c80-62aaa6495243",
   "metadata": {},
   "source": [
    "<br>\n",
    "\n",
    "第一个函数定义 `standard_arg` 是最常见的形式，对调用方式没有任何限制，可以按位置也可以按关键字传递参数："
   ]
  },
  {
   "cell_type": "code",
   "execution_count": 30,
   "id": "6aa01839-bf56-4b3c-bb9a-8f7945e6fac7",
   "metadata": {},
   "outputs": [
    {
     "name": "stdout",
     "output_type": "stream",
     "text": [
      "2\n"
     ]
    }
   ],
   "source": [
    "standard_arg(2)"
   ]
  },
  {
   "cell_type": "code",
   "execution_count": 31,
   "id": "3b8cd5e1-dbac-479a-bb22-137812044021",
   "metadata": {},
   "outputs": [
    {
     "name": "stdout",
     "output_type": "stream",
     "text": [
      "2\n"
     ]
    }
   ],
   "source": [
    "standard_arg(arg=2)"
   ]
  },
  {
   "cell_type": "markdown",
   "id": "4a6a4554-f525-404b-adc7-ccd1bce2fbf9",
   "metadata": {},
   "source": [
    "<br>\n",
    "\n",
    "第二个函数 `pos_only_arg` 的函数定义中有 `/`，仅限使用位置形参："
   ]
  },
  {
   "cell_type": "code",
   "execution_count": 32,
   "id": "b0edc958-880c-477e-9a9f-a5b9e64a5c8a",
   "metadata": {},
   "outputs": [
    {
     "name": "stdout",
     "output_type": "stream",
     "text": [
      "1\n"
     ]
    }
   ],
   "source": [
    "pos_only_arg(1)"
   ]
  },
  {
   "cell_type": "code",
   "execution_count": 33,
   "id": "cb1e05b1-88af-42f6-811d-1e294bcaca6b",
   "metadata": {},
   "outputs": [
    {
     "ename": "TypeError",
     "evalue": "pos_only_arg() got some positional-only arguments passed as keyword arguments: 'arg'",
     "output_type": "error",
     "traceback": [
      "\u001b[1;31m---------------------------------------------------------------------------\u001b[0m",
      "\u001b[1;31mTypeError\u001b[0m                                 Traceback (most recent call last)",
      "\u001b[1;32m~\\AppData\\Local\\Temp/ipykernel_14464/2836004375.py\u001b[0m in \u001b[0;36m<module>\u001b[1;34m\u001b[0m\n\u001b[1;32m----> 1\u001b[1;33m \u001b[0mpos_only_arg\u001b[0m\u001b[1;33m(\u001b[0m\u001b[0marg\u001b[0m\u001b[1;33m=\u001b[0m\u001b[1;36m1\u001b[0m\u001b[1;33m)\u001b[0m\u001b[1;33m\u001b[0m\u001b[1;33m\u001b[0m\u001b[0m\n\u001b[0m",
      "\u001b[1;31mTypeError\u001b[0m: pos_only_arg() got some positional-only arguments passed as keyword arguments: 'arg'"
     ]
    }
   ],
   "source": [
    "pos_only_arg(arg=1)"
   ]
  },
  {
   "cell_type": "markdown",
   "id": "a3d6dacc-0169-455f-b919-8b578ebd4ea4",
   "metadata": {},
   "source": [
    "<br>\n",
    "\n",
    "第三个函数 `kwd_only_args` 的函数定义通过 `*` 表明仅限关键字参数："
   ]
  },
  {
   "cell_type": "code",
   "execution_count": 34,
   "id": "4cca3ba4-30c6-4bb4-9dd0-535c0b31d130",
   "metadata": {},
   "outputs": [
    {
     "ename": "TypeError",
     "evalue": "kwd_only_arg() takes 0 positional arguments but 1 was given",
     "output_type": "error",
     "traceback": [
      "\u001b[1;31m---------------------------------------------------------------------------\u001b[0m",
      "\u001b[1;31mTypeError\u001b[0m                                 Traceback (most recent call last)",
      "\u001b[1;32m~\\AppData\\Local\\Temp/ipykernel_14464/3746133676.py\u001b[0m in \u001b[0;36m<module>\u001b[1;34m\u001b[0m\n\u001b[1;32m----> 1\u001b[1;33m \u001b[0mkwd_only_arg\u001b[0m\u001b[1;33m(\u001b[0m\u001b[1;36m3\u001b[0m\u001b[1;33m)\u001b[0m\u001b[1;33m\u001b[0m\u001b[1;33m\u001b[0m\u001b[0m\n\u001b[0m",
      "\u001b[1;31mTypeError\u001b[0m: kwd_only_arg() takes 0 positional arguments but 1 was given"
     ]
    }
   ],
   "source": [
    "kwd_only_arg(3)"
   ]
  },
  {
   "cell_type": "code",
   "execution_count": 35,
   "id": "1a39fa01-b865-40c4-85f7-4d250b6a0ce1",
   "metadata": {},
   "outputs": [
    {
     "name": "stdout",
     "output_type": "stream",
     "text": [
      "3\n"
     ]
    }
   ],
   "source": [
    "kwd_only_arg(arg=3)"
   ]
  },
  {
   "cell_type": "markdown",
   "id": "6f31a6df-a0df-4fc9-9e71-567d8be7e562",
   "metadata": {},
   "source": [
    "<br>\n",
    "\n",
    "最后一个函数在同一个函数定义中，使用了全部三种调用惯例："
   ]
  },
  {
   "cell_type": "code",
   "execution_count": 36,
   "id": "81aac6d1-e0d4-4696-b7c8-bf83829dc35d",
   "metadata": {},
   "outputs": [
    {
     "ename": "TypeError",
     "evalue": "combined_example() takes 2 positional arguments but 3 were given",
     "output_type": "error",
     "traceback": [
      "\u001b[1;31m---------------------------------------------------------------------------\u001b[0m",
      "\u001b[1;31mTypeError\u001b[0m                                 Traceback (most recent call last)",
      "\u001b[1;32m~\\AppData\\Local\\Temp/ipykernel_14464/2754851992.py\u001b[0m in \u001b[0;36m<module>\u001b[1;34m\u001b[0m\n\u001b[1;32m----> 1\u001b[1;33m \u001b[0mcombined_example\u001b[0m\u001b[1;33m(\u001b[0m\u001b[1;36m1\u001b[0m\u001b[1;33m,\u001b[0m \u001b[1;36m2\u001b[0m\u001b[1;33m,\u001b[0m \u001b[1;36m3\u001b[0m\u001b[1;33m)\u001b[0m\u001b[1;33m\u001b[0m\u001b[1;33m\u001b[0m\u001b[0m\n\u001b[0m",
      "\u001b[1;31mTypeError\u001b[0m: combined_example() takes 2 positional arguments but 3 were given"
     ]
    }
   ],
   "source": [
    "combined_example(1, 2, 3)"
   ]
  },
  {
   "cell_type": "code",
   "execution_count": 37,
   "id": "67c6d9a7-a097-4837-abd1-1e7ca57e32b8",
   "metadata": {},
   "outputs": [
    {
     "name": "stdout",
     "output_type": "stream",
     "text": [
      "1 2 3\n"
     ]
    }
   ],
   "source": [
    "combined_example(1, 2, kwd_only=3)"
   ]
  },
  {
   "cell_type": "code",
   "execution_count": 38,
   "id": "8e563501-dc13-4ecc-a16b-cf0f400e7242",
   "metadata": {},
   "outputs": [
    {
     "name": "stdout",
     "output_type": "stream",
     "text": [
      "1 2 3\n"
     ]
    }
   ],
   "source": [
    "combined_example(1, standard=2, kwd_only=3)"
   ]
  },
  {
   "cell_type": "code",
   "execution_count": 39,
   "id": "fc872b53-50e4-4d53-acfe-2853394b34dd",
   "metadata": {},
   "outputs": [
    {
     "ename": "TypeError",
     "evalue": "combined_example() got some positional-only arguments passed as keyword arguments: 'pos_only'",
     "output_type": "error",
     "traceback": [
      "\u001b[1;31m---------------------------------------------------------------------------\u001b[0m",
      "\u001b[1;31mTypeError\u001b[0m                                 Traceback (most recent call last)",
      "\u001b[1;32m~\\AppData\\Local\\Temp/ipykernel_14464/1715595389.py\u001b[0m in \u001b[0;36m<module>\u001b[1;34m\u001b[0m\n\u001b[1;32m----> 1\u001b[1;33m \u001b[0mcombined_example\u001b[0m\u001b[1;33m(\u001b[0m\u001b[0mpos_only\u001b[0m\u001b[1;33m=\u001b[0m\u001b[1;36m1\u001b[0m\u001b[1;33m,\u001b[0m \u001b[0mstandard\u001b[0m\u001b[1;33m=\u001b[0m\u001b[1;36m2\u001b[0m\u001b[1;33m,\u001b[0m \u001b[0mkwd_only\u001b[0m\u001b[1;33m=\u001b[0m\u001b[1;36m3\u001b[0m\u001b[1;33m)\u001b[0m\u001b[1;33m\u001b[0m\u001b[1;33m\u001b[0m\u001b[0m\n\u001b[0m",
      "\u001b[1;31mTypeError\u001b[0m: combined_example() got some positional-only arguments passed as keyword arguments: 'pos_only'"
     ]
    }
   ],
   "source": [
    "combined_example(pos_only=1, standard=2, kwd_only=3)"
   ]
  },
  {
   "cell_type": "markdown",
   "id": "be3896a5-2021-416f-816a-d59e7c84ebf6",
   "metadata": {},
   "source": [
    "<br>\n",
    "\n",
    "下面的函数定义中，`kwds` 把 `name` 当作键，因此，可能与位置参数 `name` 产生潜在冲突："
   ]
  },
  {
   "cell_type": "code",
   "execution_count": 40,
   "id": "1aad30ed-f8a7-4a72-a297-ab3cf394e1fa",
   "metadata": {},
   "outputs": [],
   "source": [
    "def foo(name, **kwds):\n",
    "    return 'name' in kwds"
   ]
  },
  {
   "cell_type": "markdown",
   "id": "d124145f-d0b0-4d12-98ad-3a6375d63310",
   "metadata": {},
   "source": [
    "<br>\n",
    "\n",
    "调用该函数不可能返回 `True`，因为关键字 `'name'` 总与第一个形参绑定。例如："
   ]
  },
  {
   "cell_type": "code",
   "execution_count": 41,
   "id": "85a4995b-f94d-4fac-844b-2cf4c5a806f3",
   "metadata": {},
   "outputs": [
    {
     "ename": "TypeError",
     "evalue": "foo() got multiple values for argument 'name'",
     "output_type": "error",
     "traceback": [
      "\u001b[1;31m---------------------------------------------------------------------------\u001b[0m",
      "\u001b[1;31mTypeError\u001b[0m                                 Traceback (most recent call last)",
      "\u001b[1;32m~\\AppData\\Local\\Temp/ipykernel_14464/396501844.py\u001b[0m in \u001b[0;36m<module>\u001b[1;34m\u001b[0m\n\u001b[1;32m----> 1\u001b[1;33m \u001b[0mfoo\u001b[0m\u001b[1;33m(\u001b[0m\u001b[1;36m1\u001b[0m\u001b[1;33m,\u001b[0m \u001b[1;33m**\u001b[0m\u001b[1;33m{\u001b[0m\u001b[1;34m'name'\u001b[0m\u001b[1;33m:\u001b[0m \u001b[1;36m2\u001b[0m\u001b[1;33m}\u001b[0m\u001b[1;33m)\u001b[0m\u001b[1;33m\u001b[0m\u001b[1;33m\u001b[0m\u001b[0m\n\u001b[0m",
      "\u001b[1;31mTypeError\u001b[0m: foo() got multiple values for argument 'name'"
     ]
    }
   ],
   "source": [
    "foo(1, **{'name': 2})"
   ]
  },
  {
   "cell_type": "markdown",
   "id": "40979bd8-8e9c-4667-aefc-325779fc12c0",
   "metadata": {},
   "source": [
    "<br>\n",
    "\n",
    "加上 `/` （仅限位置参数）后，就可以了。此时，函数定义把 `name` 当作位置参数，`'name'` 也可以作为关键字参数的键："
   ]
  },
  {
   "cell_type": "code",
   "execution_count": 42,
   "id": "cf825882-fb86-41ba-a204-d5226c3d4fec",
   "metadata": {},
   "outputs": [
    {
     "data": {
      "text/plain": [
       "True"
      ]
     },
     "execution_count": 42,
     "metadata": {},
     "output_type": "execute_result"
    }
   ],
   "source": [
    "def foo(name, /, **kwds):\n",
    "    return 'name' in kwds\n",
    "foo(1, **{'name': 2})"
   ]
  },
  {
   "cell_type": "markdown",
   "id": "8cbbc1aa-577d-47cd-b9ad-7b8a28e6e361",
   "metadata": {},
   "source": [
    "<br>\n",
    "\n",
    "换句话说，仅限位置形参的名称可以在 `**kwds` 中使用，而不产生歧义。"
   ]
  },
  {
   "cell_type": "markdown",
   "id": "1f1b4a06-47e7-432f-bbf7-2d43e48aab64",
   "metadata": {},
   "source": [
    "<br>\n",
    "\n",
    "#### 4.7.3.5. 小结\n",
    "\n",
    "以下用例决定哪些形参可以用于函数定义：\n",
    "\n",
    "```python\n",
    "def f(pos1, pos2, /, pos_or_kwd, *, kwd1, kwd2):\n",
    "```\n",
    "\n",
    "说明：\n",
    "\n",
    "* 使用仅限位置形参，可以让用户无法使用形参名。形参名没有实际意义时，强制调用函数的实参顺序时，或同时接收位置形参和关键字时，这种方式很有用。\n",
    "* 当形参名有实际意义，且显式名称可以让函数定义更易理解时，阻止用户依赖传递实参的位置时，才使用关键字。\n",
    "* 对于 API，使用仅限位置形参，可以防止未来修改形参名时造成破坏性的 API 变动。"
   ]
  },
  {
   "cell_type": "markdown",
   "id": "d26412a6-de9a-4cda-b6e3-73b7ea3533cf",
   "metadata": {},
   "source": [
    "<br>\n",
    "\n",
    "### 4.7.4. 任意实参列表\n",
    "\n",
    "调用函数时，使用任意数量的实参是最少见的选项。这些实参包含在元组中（详见 [元组和序列](https://docs.python.org/zh-cn/3.9/tutorial/datastructures.html#tut-tuples) ）。在可变数量的实参之前，可能有若干个普通参数："
   ]
  },
  {
   "cell_type": "code",
   "execution_count": 43,
   "id": "2aeef7d7-803b-4aa4-b223-317d1b43d01b",
   "metadata": {},
   "outputs": [],
   "source": [
    "def write_multiple_items(file, separator, *args):\n",
    "    file.write(separator.join(args))"
   ]
  },
  {
   "cell_type": "markdown",
   "id": "2218b0e2-9d83-411f-85c3-4918b70ac065",
   "metadata": {},
   "source": [
    "<br>\n",
    "\n",
    "*variadic* 参数用于采集传递给函数的所有剩余参数，因此，它们通常在形参列表的末尾。`*args` 形参后的任何形式参数只能是仅限关键字参数，即只能用作关键字参数，不能用作位置参数："
   ]
  },
  {
   "cell_type": "code",
   "execution_count": 44,
   "id": "e936befc-83c7-4019-b6ff-415693da70c5",
   "metadata": {},
   "outputs": [
    {
     "data": {
      "text/plain": [
       "'earth/mars/venus'"
      ]
     },
     "execution_count": 44,
     "metadata": {},
     "output_type": "execute_result"
    }
   ],
   "source": [
    "def concat(*args, sep=\"/\"):\n",
    "    return sep.join(args)\n",
    "concat(\"earth\", \"mars\", \"venus\")"
   ]
  },
  {
   "cell_type": "code",
   "execution_count": 45,
   "id": "8288d062-1362-4493-a172-5a23bccea446",
   "metadata": {},
   "outputs": [
    {
     "data": {
      "text/plain": [
       "'earth.mars.venus'"
      ]
     },
     "execution_count": 45,
     "metadata": {},
     "output_type": "execute_result"
    }
   ],
   "source": [
    "concat(\"earth\", \"mars\", \"venus\", sep=\".\")"
   ]
  },
  {
   "cell_type": "markdown",
   "id": "7a353792-8c50-4a88-b1c1-6db3e2d75c63",
   "metadata": {},
   "source": [
    "<br>\n",
    "\n",
    "### 4.7.5. 解包实参列表\n",
    "\n",
    "函数调用要求独立的位置参数，但实参在列表或元组里时，要执行相反的操作。例如，内置的 [range()](https://docs.python.org/zh-cn/3.9/library/stdtypes.html#range) 函数要求独立的 *start* 和 *stop* 实参。如果这些参数不是独立的，则要在调用函数时，用 `*` 操作符把实参从列表或元组解包出来："
   ]
  },
  {
   "cell_type": "code",
   "execution_count": 46,
   "id": "84520f21-90c2-45f0-88a1-66b0c43bd9ec",
   "metadata": {},
   "outputs": [
    {
     "data": {
      "text/plain": [
       "[3, 4, 5]"
      ]
     },
     "execution_count": 46,
     "metadata": {},
     "output_type": "execute_result"
    }
   ],
   "source": [
    "list(range(3, 6))            # normal call with separate arguments"
   ]
  },
  {
   "cell_type": "code",
   "execution_count": 47,
   "id": "c18acfaf-ae19-444a-9b81-7884a774c42c",
   "metadata": {},
   "outputs": [
    {
     "data": {
      "text/plain": [
       "[3, 4, 5]"
      ]
     },
     "execution_count": 47,
     "metadata": {},
     "output_type": "execute_result"
    }
   ],
   "source": [
    "args = [3, 6]\n",
    "list(range(*args))            # call with arguments unpacked from a list"
   ]
  },
  {
   "cell_type": "markdown",
   "id": "d541bacc-a620-4d6c-92ec-1e0f375593b1",
   "metadata": {},
   "source": [
    "<br>\n",
    "\n",
    "同样，字典可以用 `**` 操作符传递关键字参数："
   ]
  },
  {
   "cell_type": "code",
   "execution_count": 48,
   "id": "4e713316-4960-4a5b-80fe-96fb3548fe0b",
   "metadata": {},
   "outputs": [
    {
     "name": "stdout",
     "output_type": "stream",
     "text": [
      "-- This parrot wouldn't VOOM if you put four million volts through it. E's bleedin' demised !\n"
     ]
    }
   ],
   "source": [
    "def parrot(voltage, state='a stiff', action='voom'):\n",
    "    print(\"-- This parrot wouldn't\", action, end=' ')\n",
    "    print(\"if you put\", voltage, \"volts through it.\", end=' ')\n",
    "    print(\"E's\", state, \"!\")\n",
    "\n",
    "d = {\"voltage\": \"four million\", \"state\": \"bleedin' demised\", \"action\": \"VOOM\"}\n",
    "parrot(**d) "
   ]
  },
  {
   "cell_type": "markdown",
   "id": "e84a5543-b8eb-48f5-996f-0b56addba4c9",
   "metadata": {},
   "source": [
    "<br>\n",
    "\n",
    "### 4.7.6. Lambda 表达式\n",
    "\n",
    "[lambda](https://docs.python.org/zh-cn/3.9/reference/expressions.html#lambda) 关键字用于创建小巧的匿名函数。`lambda a, b: a+b` 函数返回两个参数的和。Lambda 函数可用于任何需要函数对象的地方。在语法上，匿名函数只能是单个表达式。在语义上，它只是常规函数定义的语法糖。与嵌套函数定义一样，lambda 函数可以引用包含作用域中的变量："
   ]
  },
  {
   "cell_type": "code",
   "execution_count": 49,
   "id": "07c41530-f8f1-450c-b2fd-d577faaf4d58",
   "metadata": {},
   "outputs": [],
   "source": [
    "def make_incrementor(n):\n",
    "    return lambda x: x + n\n",
    "f = make_incrementor(42)"
   ]
  },
  {
   "cell_type": "code",
   "execution_count": 50,
   "id": "e6a41b9b-c719-4366-98da-c422e0d29018",
   "metadata": {},
   "outputs": [
    {
     "data": {
      "text/plain": [
       "42"
      ]
     },
     "execution_count": 50,
     "metadata": {},
     "output_type": "execute_result"
    }
   ],
   "source": [
    "f(0)"
   ]
  },
  {
   "cell_type": "code",
   "execution_count": 51,
   "id": "9b4491e2-0d55-43a8-b6ff-e531b4969e9d",
   "metadata": {},
   "outputs": [
    {
     "data": {
      "text/plain": [
       "43"
      ]
     },
     "execution_count": 51,
     "metadata": {},
     "output_type": "execute_result"
    }
   ],
   "source": [
    "f(1)"
   ]
  },
  {
   "cell_type": "markdown",
   "id": "803de4ae-33b0-4988-b424-9dac2fc0c028",
   "metadata": {},
   "source": [
    "<br>\n",
    "\n",
    "上例用 lambda 表达式返回函数。还可以把匿名函数用作传递的实参："
   ]
  },
  {
   "cell_type": "code",
   "execution_count": 52,
   "id": "1d93bdf7-716a-4446-ab52-a9e479a7194b",
   "metadata": {},
   "outputs": [
    {
     "data": {
      "text/plain": [
       "[(4, 'four'), (1, 'one'), (3, 'three'), (2, 'two')]"
      ]
     },
     "execution_count": 52,
     "metadata": {},
     "output_type": "execute_result"
    }
   ],
   "source": [
    "pairs = [(1, 'one'), (2, 'two'), (3, 'three'), (4, 'four')]\n",
    "pairs.sort(key=lambda pair: pair[1])\n",
    "pairs"
   ]
  },
  {
   "cell_type": "markdown",
   "id": "41fb9e4b-e7d1-49a6-91f2-d45086b3f2f7",
   "metadata": {},
   "source": [
    "<br>\n",
    "\n",
    "### 4.7.7. 文档字符串\n",
    "\n",
    "以下是文档字符串内容和格式的约定。\n",
    "\n",
    "第一行应为对象用途的简短摘要。为保持简洁，不要在这里显式说明对象名或类型，因为可通过其他方式获取这些信息（除非该名称碰巧是描述函数操作的动词）。这一行应以大写字母开头，以句点结尾。\n",
    "\n",
    "文档字符串为多行时，第二行应为空白行，在视觉上将摘要与其余描述分开。后面的行可包含若干段落，描述对象的调用约定、副作用等。\n",
    "\n",
    "Python 解析器不会删除 Python 中多行字符串字面值的缩进，因此，文档处理工具应在必要时删除缩进。这项操作遵循以下约定：文档字符串第一行 之后 的第一个非空行决定了整个文档字符串的缩进量（第一行通常与字符串开头的引号相邻，其缩进在字符串中并不明显，因此，不能用第一行的缩进），然后，删除字符串中所有行开头处与此缩进“等价”的空白符。不能有比此缩进更少的行，但如果出现了缩进更少的行，应删除这些行的所有前导空白符。转化制表符后（通常为 8 个空格），应测试空白符的等效性。\n",
    "\n",
    "下面是多行文档字符串的一个例子："
   ]
  },
  {
   "cell_type": "code",
   "execution_count": 54,
   "id": "64c9894f-5198-4cfe-ae28-55cb5d2a36b9",
   "metadata": {},
   "outputs": [
    {
     "name": "stdout",
     "output_type": "stream",
     "text": [
      "Do nothing, but document it.\n",
      "    \n",
      "    No, really, it doesn't do anything.\n"
     ]
    }
   ],
   "source": [
    "def my_function():\n",
    "    \"\"\"Do nothing, but document it.\n",
    "    \n",
    "    No, really, it doesn't do anything.\"\"\"\n",
    "    pass\n",
    "print(my_function.__doc__)"
   ]
  },
  {
   "cell_type": "markdown",
   "id": "bb3aef6e-4e48-443d-9856-a9660cde8023",
   "metadata": {},
   "source": [
    "<br>\n",
    "\n",
    "### 4.7.8. 函数注解\n",
    "\n",
    "[函数注解](https://docs.python.org/zh-cn/3.9/reference/compound_stmts.html#function) 是可选的用户自定义函数类型的元数据完整信息（详见 [PEP 3107](https://www.python.org/dev/peps/pep-3107) 和 [PEP 484](https://www.python.org/dev/peps/pep-0484) ）。\n",
    "\n",
    "[标注](https://docs.python.org/zh-cn/3.9/glossary.html#term-function-annotation) 以字典的形式存放在函数的 `__annotations__` 属性中，并且不会影响函数的任何其他部分。 形参标注的定义方式是在形参名后加冒号，后面跟一个表达式，该表达式会被求值为标注的值。 返回值标注的定义方式是加组合符号 `->`，后面跟一个表达式，该标注位于形参列表和表示 [def](https://docs.python.org/zh-cn/3.9/reference/compound_stmts.html#def) 语句结束的冒号之间。 下面的示例有一个必须的参数，一个可选的关键字参数以及返回值都带有相应的标注:"
   ]
  },
  {
   "cell_type": "code",
   "execution_count": 55,
   "id": "e33a7e90-5279-4296-b8b3-c9a922fe8a38",
   "metadata": {},
   "outputs": [
    {
     "name": "stdout",
     "output_type": "stream",
     "text": [
      "Annotations: {'ham': <class 'str'>, 'eggs': <class 'str'>, 'return': <class 'str'>}\n",
      "Arguments: spam eggs\n"
     ]
    },
    {
     "data": {
      "text/plain": [
       "'spam and eggs'"
      ]
     },
     "execution_count": 55,
     "metadata": {},
     "output_type": "execute_result"
    }
   ],
   "source": [
    "def f(ham: str, eggs: str = 'eggs') -> str:\n",
    "    print(\"Annotations:\", f.__annotations__)\n",
    "    print(\"Arguments:\", ham, eggs)\n",
    "    return ham + ' and ' + eggs\n",
    "\n",
    "f('spam')"
   ]
  },
  {
   "cell_type": "markdown",
   "id": "2db0c63d-9d44-46d0-8abc-26d672d285da",
   "metadata": {},
   "source": [
    "<br>\n",
    "\n",
    "## 4.8. 小插曲：编码风格\n",
    "\n",
    "现在你将要写更长，更复杂的 Python 代码，是时候讨论一下 *代码风格* 了。 大多数语言都能以不同的风格被编写（或更准确地说，被格式化）；有些比其他的更具有可读性。 能让其他人轻松阅读你的代码总是一个好主意，采用一种好的编码风格对此有很大帮助。\n",
    "\n",
    "Python 项目大多都遵循 [PEP 8](https://www.python.org/dev/peps/pep-0008) 的风格指南；它推行的编码风格易于阅读、赏心悦目。Python 开发者均应抽时间悉心研读；以下是该提案中的核心要点：\n",
    "\n",
    "* 缩进，用 4 个空格，不要用制表符。4 个空格是小缩进（更深嵌套）和大缩进（更易阅读）之间的折中方案。制表符会引起混乱，最好别用。\n",
    "* 换行，一行不超过 79 个字符。这样换行的小屏阅读体验更好，还便于在大屏显示器上并排阅读多个代码文件。\n",
    "* 用空行分隔函数和类，及函数内较大的代码块。\n",
    "* 最好把注释放到单独一行。\n",
    "* 使用文档字符串。\n",
    "* 运算符前后、逗号后要用空格，但不要直接在括号内使用： `a = f(1, 2) + g(3, 4)`。\n",
    "* 类和函数的命名要一致；按惯例，命名类用 `UpperCamelCase`，命名函数与方法用 `lowercase_with_underscores`。命名方法中第一个参数总是用 `self` (类和方法详见 [初探类](https://docs.python.org/zh-cn/3.9/tutorial/classes.html#tut-firstclasses))。\n",
    "* 编写用于国际多语环境的代码时，不要用生僻的编码。Python 默认的 UTF-8 或纯 ASCII 可以胜任各种情况。\n",
    "* 同理，就算多语阅读、维护代码的可能再小，也不要在标识符中使用非 ASCII 字符。"
   ]
  }
 ],
 "metadata": {
  "kernelspec": {
   "display_name": "Python 3 (ipykernel)",
   "language": "python",
   "name": "python3"
  },
  "language_info": {
   "codemirror_mode": {
    "name": "ipython",
    "version": 3
   },
   "file_extension": ".py",
   "mimetype": "text/x-python",
   "name": "python",
   "nbconvert_exporter": "python",
   "pygments_lexer": "ipython3",
   "version": "3.9.7"
  }
 },
 "nbformat": 4,
 "nbformat_minor": 5
}
