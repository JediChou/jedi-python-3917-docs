{
 "cells": [
  {
   "cell_type": "markdown",
   "id": "ce9d1a61-378f-4834-990c-f5ac44c46d58",
   "metadata": {},
   "source": [
    "# 3. Python 速览\n",
    "\n",
    "**Reference: [Link](https://docs.python.org/zh-cn/3.9/tutorial/introduction.html)**\n",
    "\n",
    "下面的例子以是否显示提示符（`>>>` 与 `..`.）区分输入与输出：输入例子中的代码时，要键入以提示符开头的行中提示符后的所有内容；未以提示符开头的行是解释器的输出。注意，例子中的某行出现的第二个提示符是用来结束多行命令的，此时，要键入一个空白行。\n",
    "\n",
    "你可以通过在示例方块右上角的 `>>>` 上点击来切换显示提示符和输出。 如果你隐藏了一个示例的提示符和输出，那么你可以方便地将输入行复制并粘贴到你的解释器中。\n",
    "\n",
    "本手册中的许多例子，甚至交互式命令都包含注释。Python 注释以 # 开头，直到该物理行结束。注释可以在行开头，或空白符与代码之后，但不能在字符串里面。字符串中的 # 号就是 # 号。注释用于阐明代码，Python 不解释注释，键入例子时，可以不输入注释。\n",
    "\n",
    "几个例子："
   ]
  },
  {
   "cell_type": "code",
   "execution_count": 1,
   "id": "3347a89f-9e2b-4b5d-81cc-12fcc68760a3",
   "metadata": {},
   "outputs": [],
   "source": [
    "# this is the first comment\n",
    "spam = 1  # and this is the second comment\n",
    "          # ... and now a third!\n",
    "text = \"# This is not a comment because it's inside quotes.\""
   ]
  },
  {
   "cell_type": "markdown",
   "id": "6bd573f5-595d-485b-9d44-3c6dfe26f781",
   "metadata": {},
   "source": [
    "<br>\n",
    "\n",
    "## 3.1. Python 用作计算器\n",
    "\n",
    "现在，尝试一些简单的 Python 命令。启动解释器，等待主提示符（`>>>` ）出现。\n"
   ]
  },
  {
   "cell_type": "markdown",
   "id": "10d7e70e-8645-4744-99f8-c7bc3a94a6c4",
   "metadata": {},
   "source": [
    "<br>\n",
    "\n",
    "### 3.1.1. 数字\n",
    "\n",
    "解释器像一个简单的计算器：输入表达式，就会给出答案。表达式的语法很直接：运算符 `+`、`-`、`*`、`/` 的用法和其他大部分语言一样（比如，Pascal 或 C）；括号 (`()`) 用来分组。例如："
   ]
  },
  {
   "cell_type": "code",
   "execution_count": 2,
   "id": "b212e824-ca3b-449f-945a-d0d98bd8b6c5",
   "metadata": {},
   "outputs": [
    {
     "data": {
      "text/plain": [
       "4"
      ]
     },
     "execution_count": 2,
     "metadata": {},
     "output_type": "execute_result"
    }
   ],
   "source": [
    "2 + 2"
   ]
  },
  {
   "cell_type": "code",
   "execution_count": 3,
   "id": "8c64587a-4b42-4725-80d4-2379c6f17d7f",
   "metadata": {},
   "outputs": [
    {
     "data": {
      "text/plain": [
       "20"
      ]
     },
     "execution_count": 3,
     "metadata": {},
     "output_type": "execute_result"
    }
   ],
   "source": [
    "50 - 5*6"
   ]
  },
  {
   "cell_type": "code",
   "execution_count": 4,
   "id": "86b5a305-6d0d-4a7c-ac8f-9052dec08600",
   "metadata": {},
   "outputs": [
    {
     "data": {
      "text/plain": [
       "5.0"
      ]
     },
     "execution_count": 4,
     "metadata": {},
     "output_type": "execute_result"
    }
   ],
   "source": [
    "(50 - 5*6) / 4"
   ]
  },
  {
   "cell_type": "code",
   "execution_count": 5,
   "id": "7307bba3-93c4-48cc-813a-46919f36219f",
   "metadata": {},
   "outputs": [
    {
     "data": {
      "text/plain": [
       "1.6"
      ]
     },
     "execution_count": 5,
     "metadata": {},
     "output_type": "execute_result"
    }
   ],
   "source": [
    "8 / 5  # division always returns a floating point number"
   ]
  },
  {
   "cell_type": "markdown",
   "id": "37cd3df2-e7dd-4e29-8e2c-7ddb6c135c83",
   "metadata": {},
   "source": [
    "<br>\n",
    "\n",
    "整数（如，`2`、`4`、`20` ）的类型是 [int](https://docs.python.org/zh-cn/3.9/library/functions.html#int)，带小数（如，`5.0`、`1.6` ）的类型是 [float](https://docs.python.org/zh-cn/3.9/library/functions.html#float)。本教程后半部分将介绍更多数字类型。\n",
    "\n",
    "除法运算（`/`）返回浮点数。用 `//` 运算符执行 [floor division](https://docs.python.org/zh-cn/3.9/glossary.html#term-floor-division) 的结果是整数（忽略小数）；计算余数用 `%`："
   ]
  },
  {
   "cell_type": "code",
   "execution_count": 6,
   "id": "5e32aef1-70b4-4525-bfc8-c5a199109c54",
   "metadata": {},
   "outputs": [
    {
     "data": {
      "text/plain": [
       "5.666666666666667"
      ]
     },
     "execution_count": 6,
     "metadata": {},
     "output_type": "execute_result"
    }
   ],
   "source": [
    "17 / 3  # classic division returns a float"
   ]
  },
  {
   "cell_type": "code",
   "execution_count": 7,
   "id": "eebdc732-4d1f-4263-a06c-cd43393f423f",
   "metadata": {},
   "outputs": [
    {
     "data": {
      "text/plain": [
       "5"
      ]
     },
     "execution_count": 7,
     "metadata": {},
     "output_type": "execute_result"
    }
   ],
   "source": [
    "17 // 3  # floor division discards the fractional part"
   ]
  },
  {
   "cell_type": "code",
   "execution_count": 8,
   "id": "df4d2a7f-eb7a-4f48-9697-d2c1d7ee9d55",
   "metadata": {},
   "outputs": [
    {
     "data": {
      "text/plain": [
       "2"
      ]
     },
     "execution_count": 8,
     "metadata": {},
     "output_type": "execute_result"
    }
   ],
   "source": [
    "17 % 3  # the % operator returns the remainder of the division"
   ]
  },
  {
   "cell_type": "code",
   "execution_count": 9,
   "id": "750eac64-1dda-428d-8510-28fd37cd5405",
   "metadata": {},
   "outputs": [
    {
     "data": {
      "text/plain": [
       "17"
      ]
     },
     "execution_count": 9,
     "metadata": {},
     "output_type": "execute_result"
    }
   ],
   "source": [
    "5 * 3 + 2  # floored quotient * divisor + remainder"
   ]
  },
  {
   "cell_type": "markdown",
   "id": "e4e513b5-bbef-4245-99c2-abb4514f9927",
   "metadata": {},
   "source": [
    "<br>\n",
    "\n",
    "Python 用 ** 运算符计算乘方："
   ]
  },
  {
   "cell_type": "code",
   "execution_count": 10,
   "id": "c26ca153-2273-456f-9348-a07e0c598f7e",
   "metadata": {},
   "outputs": [
    {
     "data": {
      "text/plain": [
       "25"
      ]
     },
     "execution_count": 10,
     "metadata": {},
     "output_type": "execute_result"
    }
   ],
   "source": [
    "5 ** 2  # 5 squared"
   ]
  },
  {
   "cell_type": "code",
   "execution_count": 11,
   "id": "d57d77d8-9a46-48d6-be29-871fb0301004",
   "metadata": {},
   "outputs": [
    {
     "data": {
      "text/plain": [
       "128"
      ]
     },
     "execution_count": 11,
     "metadata": {},
     "output_type": "execute_result"
    }
   ],
   "source": [
    "2 ** 7  # 2 to the power of 7"
   ]
  },
  {
   "cell_type": "markdown",
   "id": "a66fab52-f59e-41ac-82cf-82854dc71150",
   "metadata": {},
   "source": [
    "<br>\n",
    "\n",
    "等号（=）用于给变量赋值。赋值后，下一个交互提示符的位置不显示任何结果："
   ]
  },
  {
   "cell_type": "code",
   "execution_count": 12,
   "id": "9a44c990-e16d-4da0-8a6a-c3daaadd85fe",
   "metadata": {},
   "outputs": [
    {
     "data": {
      "text/plain": [
       "900"
      ]
     },
     "execution_count": 12,
     "metadata": {},
     "output_type": "execute_result"
    }
   ],
   "source": [
    "width = 20\n",
    "height = 5 * 9\n",
    "width * height"
   ]
  },
  {
   "cell_type": "markdown",
   "id": "44cdff73-8047-47ab-ad80-27ce9303e87d",
   "metadata": {},
   "source": [
    "<br>\n",
    "\n",
    "如果变量未定义（即，未赋值），使用该变量会提示错误："
   ]
  },
  {
   "cell_type": "code",
   "execution_count": 13,
   "id": "d5c67ce8-3748-4f89-812f-f20d0a7c1a7d",
   "metadata": {},
   "outputs": [
    {
     "ename": "NameError",
     "evalue": "name 'n' is not defined",
     "output_type": "error",
     "traceback": [
      "\u001b[1;31m---------------------------------------------------------------------------\u001b[0m",
      "\u001b[1;31mNameError\u001b[0m                                 Traceback (most recent call last)",
      "\u001b[1;32m~\\AppData\\Local\\Temp/ipykernel_7720/18103570.py\u001b[0m in \u001b[0;36m<module>\u001b[1;34m\u001b[0m\n\u001b[1;32m----> 1\u001b[1;33m \u001b[0mn\u001b[0m  \u001b[1;31m# try to access an undefined variable\u001b[0m\u001b[1;33m\u001b[0m\u001b[1;33m\u001b[0m\u001b[0m\n\u001b[0m",
      "\u001b[1;31mNameError\u001b[0m: name 'n' is not defined"
     ]
    }
   ],
   "source": [
    "n  # try to access an undefined variable"
   ]
  },
  {
   "cell_type": "markdown",
   "id": "4c88865a-891c-419c-9118-11cf053822f4",
   "metadata": {},
   "source": [
    "<br>\n",
    "\n",
    "Python 全面支持浮点数；混合类型运算数的运算会把整数转换为浮点数："
   ]
  },
  {
   "cell_type": "code",
   "execution_count": 14,
   "id": "fa5f232c-340f-44a2-b983-aedf754c9aa4",
   "metadata": {},
   "outputs": [
    {
     "data": {
      "text/plain": [
       "14.0"
      ]
     },
     "execution_count": 14,
     "metadata": {},
     "output_type": "execute_result"
    }
   ],
   "source": [
    "4 * 3.75 - 1"
   ]
  },
  {
   "cell_type": "markdown",
   "id": "225e442b-b2ca-483d-9f13-be8a375fb946",
   "metadata": {},
   "source": [
    "<br>\n",
    "\n",
    "交互模式下，上次输出的表达式会赋给变量 `_`。把 Python 当作计算器时，用该变量实现下一步计算更简单，例如："
   ]
  },
  {
   "cell_type": "code",
   "execution_count": 15,
   "id": "c68c28a1-0aff-40b6-98cc-afcb8f688e3b",
   "metadata": {},
   "outputs": [
    {
     "data": {
      "text/plain": [
       "12.5625"
      ]
     },
     "execution_count": 15,
     "metadata": {},
     "output_type": "execute_result"
    }
   ],
   "source": [
    "tax = 12.5 / 100\n",
    "price = 100.50\n",
    "price * tax"
   ]
  },
  {
   "cell_type": "code",
   "execution_count": 16,
   "id": "420e164f-41bb-4785-9d60-9c5cbfef9130",
   "metadata": {},
   "outputs": [
    {
     "data": {
      "text/plain": [
       "113.0625"
      ]
     },
     "execution_count": 16,
     "metadata": {},
     "output_type": "execute_result"
    }
   ],
   "source": [
    "price + _"
   ]
  },
  {
   "cell_type": "code",
   "execution_count": 17,
   "id": "976c6704-5896-4f62-a4ee-601518ac07a8",
   "metadata": {},
   "outputs": [
    {
     "data": {
      "text/plain": [
       "113.06"
      ]
     },
     "execution_count": 17,
     "metadata": {},
     "output_type": "execute_result"
    }
   ],
   "source": [
    "round(_, 2)"
   ]
  },
  {
   "cell_type": "markdown",
   "id": "7ea6b396-4657-448f-be09-9d3911de1521",
   "metadata": {},
   "source": [
    "<br>\n",
    "\n",
    "最好把该变量当作只读类型。不要为它显式赋值，否则会创建一个同名独立局部变量，该变量会用它的魔法行为屏蔽内置变量。\n",
    "\n",
    "除了 [int](https://docs.python.org/zh-cn/3.9/library/functions.html#int) 和 [float](https://docs.python.org/zh-cn/3.9/library/functions.html#float)，Python 还支持其他数字类型，例如 [Decimal](https://docs.python.org/zh-cn/3.9/library/decimal.html#decimal.Decimal) 或 [Fraction](https://docs.python.org/zh-cn/3.9/library/fractions.html#fractions.Fraction)。Python 还内置支持 [复数](https://docs.python.org/zh-cn/3.9/library/stdtypes.html#typesnumeric)，后缀 `j` 或 `J` 用于表示虚数（例如 `3+5j` ）。"
   ]
  },
  {
   "cell_type": "markdown",
   "id": "6d9df8c2-09d6-4f64-bd5e-ce24903ff634",
   "metadata": {},
   "source": [
    "<br>\n",
    "\n",
    "### 3.1.2. 字符串\n",
    "\n",
    "除了数字，Python 还可以操作字符串。字符串有多种表现形式，用单引号（`'……'`）或双引号（`\"……\"`）标注的结果相同。反斜杠 `\\` 用于转义："
   ]
  },
  {
   "cell_type": "code",
   "execution_count": 18,
   "id": "d6ac0d98-b48c-411e-a602-da0dde17624e",
   "metadata": {},
   "outputs": [
    {
     "data": {
      "text/plain": [
       "'spam eggs'"
      ]
     },
     "execution_count": 18,
     "metadata": {},
     "output_type": "execute_result"
    }
   ],
   "source": [
    "'spam eggs'  # single quotes"
   ]
  },
  {
   "cell_type": "code",
   "execution_count": 19,
   "id": "4ba92ef0-72e6-4e16-9308-5a9381354803",
   "metadata": {},
   "outputs": [
    {
     "data": {
      "text/plain": [
       "\"doesn't\""
      ]
     },
     "execution_count": 19,
     "metadata": {},
     "output_type": "execute_result"
    }
   ],
   "source": [
    "'doesn\\'t'  # use \\' to escape the single quote..."
   ]
  },
  {
   "cell_type": "code",
   "execution_count": 20,
   "id": "5bc4de69-a7da-4b92-b902-dd617e91884b",
   "metadata": {},
   "outputs": [
    {
     "data": {
      "text/plain": [
       "\"doesn't\""
      ]
     },
     "execution_count": 20,
     "metadata": {},
     "output_type": "execute_result"
    }
   ],
   "source": [
    "\"doesn't\"  # ...or use double quotes instead"
   ]
  },
  {
   "cell_type": "code",
   "execution_count": 21,
   "id": "77b79bac-50b6-4ff2-9a9d-3450b1dbd4a1",
   "metadata": {},
   "outputs": [
    {
     "data": {
      "text/plain": [
       "'\"Yes,\" they said.'"
      ]
     },
     "execution_count": 21,
     "metadata": {},
     "output_type": "execute_result"
    }
   ],
   "source": [
    "'\"Yes,\" they said.'"
   ]
  },
  {
   "cell_type": "code",
   "execution_count": 22,
   "id": "7c1e4404-4fe7-4cf6-9aba-6b947195ec63",
   "metadata": {},
   "outputs": [
    {
     "data": {
      "text/plain": [
       "'\"Yes,\" they said.'"
      ]
     },
     "execution_count": 22,
     "metadata": {},
     "output_type": "execute_result"
    }
   ],
   "source": [
    "\"\\\"Yes,\\\" they said.\""
   ]
  },
  {
   "cell_type": "code",
   "execution_count": 23,
   "id": "7fb61fd6-02dd-4ed2-9003-88581cfa28c6",
   "metadata": {},
   "outputs": [
    {
     "data": {
      "text/plain": [
       "'\"Isn\\'t,\" they said.'"
      ]
     },
     "execution_count": 23,
     "metadata": {},
     "output_type": "execute_result"
    }
   ],
   "source": [
    "'\"Isn\\'t,\" they said.'"
   ]
  },
  {
   "cell_type": "markdown",
   "id": "1d9ee95b-fd44-48d5-8f5f-b385c8908b69",
   "metadata": {},
   "source": [
    "<br>\n",
    "\n",
    "交互式解释器会为输出的字符串加注引号，特殊字符使用反斜杠转义。虽然，有时输出的字符串看起来与输入的字符串不一样（外加的引号可能会改变），但两个字符串是相同的。如果字符串中有单引号而没有双引号，该字符串外将加注双引号，反之，则加注单引号。[print()](https://docs.python.org/zh-cn/3.9/library/functions.html#print) 函数输出的内容更简洁易读，它会省略两边的引号，并输出转义后的特殊字符："
   ]
  },
  {
   "cell_type": "code",
   "execution_count": 24,
   "id": "6bcfa421-2d24-485a-8932-617ed5647df7",
   "metadata": {},
   "outputs": [
    {
     "data": {
      "text/plain": [
       "'\"Isn\\'t,\" they said.'"
      ]
     },
     "execution_count": 24,
     "metadata": {},
     "output_type": "execute_result"
    }
   ],
   "source": [
    "'\"Isn\\'t,\" they said.'"
   ]
  },
  {
   "cell_type": "code",
   "execution_count": 25,
   "id": "229703cc-ce12-45a0-91f0-05f01546922a",
   "metadata": {},
   "outputs": [
    {
     "name": "stdout",
     "output_type": "stream",
     "text": [
      "\"Isn't,\" they said.\n"
     ]
    }
   ],
   "source": [
    "print('\"Isn\\'t,\" they said.')"
   ]
  },
  {
   "cell_type": "code",
   "execution_count": 26,
   "id": "8f6de3e6-973d-4747-b80f-a2bfc8c31eef",
   "metadata": {},
   "outputs": [
    {
     "data": {
      "text/plain": [
       "'First line.\\nSecond line.'"
      ]
     },
     "execution_count": 26,
     "metadata": {},
     "output_type": "execute_result"
    }
   ],
   "source": [
    "s = 'First line.\\nSecond line.'  # \\n means newline\n",
    "s  # without print(), \\n is included in the output"
   ]
  },
  {
   "cell_type": "code",
   "execution_count": 27,
   "id": "b78d04a2-b8d3-43fc-aab9-dda2d887ee89",
   "metadata": {},
   "outputs": [
    {
     "name": "stdout",
     "output_type": "stream",
     "text": [
      "First line.\n",
      "Second line.\n"
     ]
    }
   ],
   "source": [
    "print(s)  # with print(), \\n produces a new line"
   ]
  },
  {
   "cell_type": "markdown",
   "id": "ba76580f-ef4b-44ed-9884-86caf393be02",
   "metadata": {},
   "source": [
    "<br>\n",
    "\n",
    "如果不希望前置 `\\` 的字符转义成特殊字符，可以使用 *原始*字符串，在引号前添加 `r` 即可："
   ]
  },
  {
   "cell_type": "code",
   "execution_count": 28,
   "id": "95cd96fd-a8dc-4ddd-b96c-46fd93d8416f",
   "metadata": {},
   "outputs": [
    {
     "name": "stdout",
     "output_type": "stream",
     "text": [
      "C:\\some\n",
      "ame\n"
     ]
    }
   ],
   "source": [
    "print('C:\\some\\name')  # here \\n means newline!"
   ]
  },
  {
   "cell_type": "code",
   "execution_count": 29,
   "id": "790956a9-5599-411e-96c7-9cd84f97299b",
   "metadata": {},
   "outputs": [
    {
     "name": "stdout",
     "output_type": "stream",
     "text": [
      "C:\\some\\name\n"
     ]
    }
   ],
   "source": [
    "print(r'C:\\some\\name')  # note the r before the quote"
   ]
  },
  {
   "cell_type": "markdown",
   "id": "179d3939-b531-4336-9c82-938a9466b3c6",
   "metadata": {},
   "source": [
    "<br>\n",
    "\n",
    "字符串字面值可以包含多行。 一种实现方式是使用三重引号：`\"\"\"...\"\"\"` 或 `'''...'''`。 字符串中将自动包括行结束符，但也可以在换行的地方添加一个 `\\` 来避免此情况。 参见以下示例：\n"
   ]
  },
  {
   "cell_type": "code",
   "execution_count": 30,
   "id": "e7a313c3-89f0-4bc9-a133-abec939fba46",
   "metadata": {},
   "outputs": [
    {
     "name": "stdout",
     "output_type": "stream",
     "text": [
      "Usage: thingy [OPTIONS]\n",
      "     -h                        Display this usage message\n",
      "     -H hostname               Hostname to connect to\n",
      "\n"
     ]
    }
   ],
   "source": [
    "print(\"\"\"\\\n",
    "Usage: thingy [OPTIONS]\n",
    "     -h                        Display this usage message\n",
    "     -H hostname               Hostname to connect to\n",
    "\"\"\")"
   ]
  },
  {
   "cell_type": "markdown",
   "id": "7151f436-aee3-434b-9df1-af41c82df345",
   "metadata": {},
   "source": [
    "<br>\n",
    "\n",
    "输出如下（请注意开始的换行符没有被包括在内）：\n",
    "\n",
    "字符串可以用 `+` 合并（粘到一起），也可以用 `*` 重复："
   ]
  },
  {
   "cell_type": "code",
   "execution_count": 31,
   "id": "4bf81499-3f0b-4ab4-afdd-69a6aaebda00",
   "metadata": {},
   "outputs": [
    {
     "data": {
      "text/plain": [
       "'unununium'"
      ]
     },
     "execution_count": 31,
     "metadata": {},
     "output_type": "execute_result"
    }
   ],
   "source": [
    "# 3 times 'un', followed by 'ium'\n",
    "3 * 'un' + 'ium'"
   ]
  },
  {
   "cell_type": "markdown",
   "id": "a0c0b3f7-e1a1-46a7-8c1f-d0de2721c4eb",
   "metadata": {},
   "source": [
    "<br>\n",
    "\n",
    "相邻的两个或多个 字符串字面值 （引号标注的字符）会自动合并："
   ]
  },
  {
   "cell_type": "code",
   "execution_count": 32,
   "id": "61c54740-8ecb-4f9d-8bdd-fc91a2a54774",
   "metadata": {},
   "outputs": [
    {
     "data": {
      "text/plain": [
       "'Python'"
      ]
     },
     "execution_count": 32,
     "metadata": {},
     "output_type": "execute_result"
    }
   ],
   "source": [
    "'Py' 'thon'"
   ]
  },
  {
   "cell_type": "markdown",
   "id": "38e92bfe-4a14-445e-994e-1343e3b44594",
   "metadata": {},
   "source": [
    "<br>\n",
    "\n",
    "拼接分隔开的长字符串时，这个功能特别实用："
   ]
  },
  {
   "cell_type": "code",
   "execution_count": 33,
   "id": "8f7242af-0ae3-45e5-854b-d14b689a64e1",
   "metadata": {},
   "outputs": [
    {
     "data": {
      "text/plain": [
       "'Put several strings within parentheses to have them joined together.'"
      ]
     },
     "execution_count": 33,
     "metadata": {},
     "output_type": "execute_result"
    }
   ],
   "source": [
    "text = ('Put several strings within parentheses '\n",
    "        'to have them joined together.')\n",
    "text"
   ]
  },
  {
   "cell_type": "markdown",
   "id": "fb423a11-4d34-448a-9607-1327293ff4b0",
   "metadata": {},
   "source": [
    "<br>\n",
    "\n",
    "这项功能只能用于两个字面值，不能用于变量或表达式："
   ]
  },
  {
   "cell_type": "code",
   "execution_count": 34,
   "id": "8eeb083b-892c-49d4-a7ab-18c62d9fc487",
   "metadata": {},
   "outputs": [
    {
     "ename": "SyntaxError",
     "evalue": "invalid syntax (Temp/ipykernel_7720/369527832.py, line 2)",
     "output_type": "error",
     "traceback": [
      "\u001b[1;36m  File \u001b[1;32m\"C:\\Users\\Hao\\AppData\\Local\\Temp/ipykernel_7720/369527832.py\"\u001b[1;36m, line \u001b[1;32m2\u001b[0m\n\u001b[1;33m    prefix 'thon'  # can't concatenate a variable and a string literal\u001b[0m\n\u001b[1;37m           ^\u001b[0m\n\u001b[1;31mSyntaxError\u001b[0m\u001b[1;31m:\u001b[0m invalid syntax\n"
     ]
    }
   ],
   "source": [
    "prefix = 'Py'\n",
    "prefix 'thon'  # can't concatenate a variable and a string literal"
   ]
  },
  {
   "cell_type": "markdown",
   "id": "b7b86abb-b30c-433f-9789-1b02f1566aa8",
   "metadata": {},
   "source": [
    "<br>\n",
    "\n",
    "合并多个变量，或合并变量与字面值，要用 `+`："
   ]
  },
  {
   "cell_type": "code",
   "execution_count": 35,
   "id": "ff8381c6-392b-4b7d-af3c-c738f1b311ee",
   "metadata": {},
   "outputs": [
    {
     "data": {
      "text/plain": [
       "'Python'"
      ]
     },
     "execution_count": 35,
     "metadata": {},
     "output_type": "execute_result"
    }
   ],
   "source": [
    "prefix = 'Py'\n",
    "prefix + 'thon'"
   ]
  },
  {
   "cell_type": "markdown",
   "id": "8a39640b-ebe3-4923-abce-441bf8f894ba",
   "metadata": {},
   "source": [
    "<br>\n",
    "\n",
    "字符串支持 *`索引`* （下标访问），第一个字符的索引是 0。单字符没有专用的类型，就是长度为一的字符串："
   ]
  },
  {
   "cell_type": "code",
   "execution_count": 36,
   "id": "195ec270-44ac-4cfd-b782-8a94cbef629b",
   "metadata": {},
   "outputs": [
    {
     "data": {
      "text/plain": [
       "'P'"
      ]
     },
     "execution_count": 36,
     "metadata": {},
     "output_type": "execute_result"
    }
   ],
   "source": [
    "word = 'Python'\n",
    "word[0]  # character in position 0"
   ]
  },
  {
   "cell_type": "code",
   "execution_count": 37,
   "id": "2eb75a40-7aa0-4f1e-aa78-de422dd8c20c",
   "metadata": {},
   "outputs": [
    {
     "data": {
      "text/plain": [
       "'n'"
      ]
     },
     "execution_count": 37,
     "metadata": {},
     "output_type": "execute_result"
    }
   ],
   "source": [
    "word[5]  # character in position 5"
   ]
  },
  {
   "cell_type": "markdown",
   "id": "1cc8e47f-35d0-4800-94b6-a00909547af5",
   "metadata": {},
   "source": [
    "<br>\n",
    "\n",
    "索引还支持负数，用负数索引时，从右边开始计数："
   ]
  },
  {
   "cell_type": "code",
   "execution_count": 38,
   "id": "8e9852d8-6a4d-45f6-824b-be061589a7e3",
   "metadata": {},
   "outputs": [
    {
     "data": {
      "text/plain": [
       "'n'"
      ]
     },
     "execution_count": 38,
     "metadata": {},
     "output_type": "execute_result"
    }
   ],
   "source": [
    "word[-1]  # last character"
   ]
  },
  {
   "cell_type": "code",
   "execution_count": 39,
   "id": "76ade212-600a-4cd2-bf69-4816708f5d0d",
   "metadata": {},
   "outputs": [
    {
     "data": {
      "text/plain": [
       "'o'"
      ]
     },
     "execution_count": 39,
     "metadata": {},
     "output_type": "execute_result"
    }
   ],
   "source": [
    "word[-2]  # second-last character"
   ]
  },
  {
   "cell_type": "code",
   "execution_count": 40,
   "id": "e76592ea-70e5-4af5-a4d3-a09f2d23f246",
   "metadata": {},
   "outputs": [
    {
     "data": {
      "text/plain": [
       "'P'"
      ]
     },
     "execution_count": 40,
     "metadata": {},
     "output_type": "execute_result"
    }
   ],
   "source": [
    "word[-6]"
   ]
  },
  {
   "cell_type": "markdown",
   "id": "9d225bac-78f7-41e3-bbad-ab655b76688d",
   "metadata": {},
   "source": [
    "<br>\n",
    "\n",
    "注意，-0 和 0 一样，因此，负数索引从 -1 开始。\n",
    "\n",
    "除了索引，字符串还支持 *切片*。索引可以提取单个字符，*切片* 则提取子字符串："
   ]
  },
  {
   "cell_type": "code",
   "execution_count": 41,
   "id": "3bcf2300-91a0-4cb3-9551-638b0202f299",
   "metadata": {},
   "outputs": [
    {
     "data": {
      "text/plain": [
       "'Py'"
      ]
     },
     "execution_count": 41,
     "metadata": {},
     "output_type": "execute_result"
    }
   ],
   "source": [
    "word[0:2]  # characters from position 0 (included) to 2 (excluded)"
   ]
  },
  {
   "cell_type": "code",
   "execution_count": 42,
   "id": "eab87507-9c6c-4b20-a66f-e4122ee17060",
   "metadata": {},
   "outputs": [
    {
     "data": {
      "text/plain": [
       "'tho'"
      ]
     },
     "execution_count": 42,
     "metadata": {},
     "output_type": "execute_result"
    }
   ],
   "source": [
    "word[2:5]  # characters from position 2 (included) to 5 (excluded)"
   ]
  },
  {
   "cell_type": "markdown",
   "id": "1eb0cec5-07d6-4a91-86d9-17da1eb02b45",
   "metadata": {},
   "source": [
    "<br>\n",
    "\n",
    "切片索引的默认值很有用；省略开始索引时，默认值为 0，省略结束索引时，默认为到字符串的结尾："
   ]
  },
  {
   "cell_type": "code",
   "execution_count": 43,
   "id": "5332c313-540c-4696-8245-86bd7013e0ee",
   "metadata": {},
   "outputs": [
    {
     "data": {
      "text/plain": [
       "'Py'"
      ]
     },
     "execution_count": 43,
     "metadata": {},
     "output_type": "execute_result"
    }
   ],
   "source": [
    "word[:2]   # character from the beginning to position 2 (excluded)"
   ]
  },
  {
   "cell_type": "code",
   "execution_count": 44,
   "id": "f810a5c4-4175-467b-8f9e-56886896d2df",
   "metadata": {},
   "outputs": [
    {
     "data": {
      "text/plain": [
       "'on'"
      ]
     },
     "execution_count": 44,
     "metadata": {},
     "output_type": "execute_result"
    }
   ],
   "source": [
    "word[4:]   # characters from position 4 (included) to the end"
   ]
  },
  {
   "cell_type": "code",
   "execution_count": 45,
   "id": "6d854a68-1fcd-465a-a2bb-e7b184ea058c",
   "metadata": {},
   "outputs": [
    {
     "data": {
      "text/plain": [
       "'on'"
      ]
     },
     "execution_count": 45,
     "metadata": {},
     "output_type": "execute_result"
    }
   ],
   "source": [
    "word[-2:]  # characters from the second-last (included) to the end"
   ]
  },
  {
   "cell_type": "markdown",
   "id": "a3a64f6a-7ccb-4ae9-827b-cf42cee99aa7",
   "metadata": {},
   "source": [
    "<br>\n",
    "\n",
    "注意，输出结果包含切片开始，但不包含切片结束。因此，`s[:i] + s[i:]` 总是等于 s："
   ]
  },
  {
   "cell_type": "code",
   "execution_count": 46,
   "id": "99320bec-8001-47ba-992c-c121dd16d412",
   "metadata": {},
   "outputs": [
    {
     "data": {
      "text/plain": [
       "'Python'"
      ]
     },
     "execution_count": 46,
     "metadata": {},
     "output_type": "execute_result"
    }
   ],
   "source": [
    "word[:2] + word[2:]"
   ]
  },
  {
   "cell_type": "code",
   "execution_count": 47,
   "id": "0ceccfc1-4a9b-406b-8f7c-a78112696bec",
   "metadata": {},
   "outputs": [
    {
     "data": {
      "text/plain": [
       "'Python'"
      ]
     },
     "execution_count": 47,
     "metadata": {},
     "output_type": "execute_result"
    }
   ],
   "source": [
    "word[:4] + word[4:]"
   ]
  },
  {
   "cell_type": "markdown",
   "id": "838d18f9-dd7d-43b2-9593-53ebc5f79cca",
   "metadata": {},
   "source": [
    "<br>\n",
    "\n",
    "还可以这样理解切片，索引指向的是字符 *之间* ，第一个字符的左侧标为 0，最后一个字符的右侧标为 n ，n 是字符串长度。例如：\n",
    "\n",
    "```\n",
    " +---+---+---+---+---+---+\n",
    " | P | y | t | h | o | n |\n",
    " +---+---+---+---+---+---+\n",
    " 0   1   2   3   4   5   6\n",
    "-6  -5  -4  -3  -2  -1\n",
    "```\n",
    "\n",
    "第一行数字是字符串中索引 0...6 的位置，第二行数字是对应的负数索引位置。${i}$ 到 ${j}$ 的切片由 ${i}$ 和 ${j}$ 之间所有对应的字符组成。\n",
    "\n",
    "对于使用非负索引的切片，如果两个索引都不越界，切片长度就是起止索引之差。例如， `word[1:3]` 的长度是 2。\n",
    "\n",
    "索引越界会报错："
   ]
  },
  {
   "cell_type": "code",
   "execution_count": 48,
   "id": "10538c6f-5a63-40ef-8a56-74dd8a2201d5",
   "metadata": {},
   "outputs": [
    {
     "ename": "IndexError",
     "evalue": "string index out of range",
     "output_type": "error",
     "traceback": [
      "\u001b[1;31m---------------------------------------------------------------------------\u001b[0m",
      "\u001b[1;31mIndexError\u001b[0m                                Traceback (most recent call last)",
      "\u001b[1;32m~\\AppData\\Local\\Temp/ipykernel_7720/315642136.py\u001b[0m in \u001b[0;36m<module>\u001b[1;34m\u001b[0m\n\u001b[1;32m----> 1\u001b[1;33m \u001b[0mword\u001b[0m\u001b[1;33m[\u001b[0m\u001b[1;36m42\u001b[0m\u001b[1;33m]\u001b[0m  \u001b[1;31m# the word only has 6 characters\u001b[0m\u001b[1;33m\u001b[0m\u001b[1;33m\u001b[0m\u001b[0m\n\u001b[0m",
      "\u001b[1;31mIndexError\u001b[0m: string index out of range"
     ]
    }
   ],
   "source": [
    "word[42]  # the word only has 6 characters"
   ]
  },
  {
   "cell_type": "markdown",
   "id": "ddfb6452-e990-4678-af63-88c98412705e",
   "metadata": {},
   "source": [
    "<br>\n",
    "\n",
    "但是，切片会自动处理越界索引："
   ]
  },
  {
   "cell_type": "code",
   "execution_count": 49,
   "id": "d09551f1-46d9-4a6b-9d9e-e82ccb7332fc",
   "metadata": {},
   "outputs": [
    {
     "data": {
      "text/plain": [
       "'on'"
      ]
     },
     "execution_count": 49,
     "metadata": {},
     "output_type": "execute_result"
    }
   ],
   "source": [
    "word[4:42]"
   ]
  },
  {
   "cell_type": "code",
   "execution_count": 50,
   "id": "ecb5d75c-8401-454d-b917-e7c320198870",
   "metadata": {},
   "outputs": [
    {
     "data": {
      "text/plain": [
       "''"
      ]
     },
     "execution_count": 50,
     "metadata": {},
     "output_type": "execute_result"
    }
   ],
   "source": [
    "word[42:]"
   ]
  },
  {
   "cell_type": "markdown",
   "id": "a1ec7904-9e52-4360-834f-70d0494bbaba",
   "metadata": {},
   "source": [
    "<br>\n",
    "\n",
    "Python 字符串不能修改，是 [immutable](https://docs.python.org/zh-cn/3.9/glossary.html#term-immutable) 的。因此，为字符串中某个索引位置赋值会报错："
   ]
  },
  {
   "cell_type": "code",
   "execution_count": 51,
   "id": "5a54fd3a-4117-4c46-b707-a87fbd6babda",
   "metadata": {},
   "outputs": [
    {
     "ename": "TypeError",
     "evalue": "'str' object does not support item assignment",
     "output_type": "error",
     "traceback": [
      "\u001b[1;31m---------------------------------------------------------------------------\u001b[0m",
      "\u001b[1;31mTypeError\u001b[0m                                 Traceback (most recent call last)",
      "\u001b[1;32m~\\AppData\\Local\\Temp/ipykernel_7720/2664689217.py\u001b[0m in \u001b[0;36m<module>\u001b[1;34m\u001b[0m\n\u001b[1;32m----> 1\u001b[1;33m \u001b[0mword\u001b[0m\u001b[1;33m[\u001b[0m\u001b[1;36m0\u001b[0m\u001b[1;33m]\u001b[0m \u001b[1;33m=\u001b[0m \u001b[1;34m'J'\u001b[0m\u001b[1;33m\u001b[0m\u001b[1;33m\u001b[0m\u001b[0m\n\u001b[0m",
      "\u001b[1;31mTypeError\u001b[0m: 'str' object does not support item assignment"
     ]
    }
   ],
   "source": [
    "word[0] = 'J'"
   ]
  },
  {
   "cell_type": "code",
   "execution_count": 52,
   "id": "8c01df2c-0d03-4525-91bc-ed9d6232fd79",
   "metadata": {},
   "outputs": [
    {
     "ename": "TypeError",
     "evalue": "'str' object does not support item assignment",
     "output_type": "error",
     "traceback": [
      "\u001b[1;31m---------------------------------------------------------------------------\u001b[0m",
      "\u001b[1;31mTypeError\u001b[0m                                 Traceback (most recent call last)",
      "\u001b[1;32m~\\AppData\\Local\\Temp/ipykernel_7720/1560658847.py\u001b[0m in \u001b[0;36m<module>\u001b[1;34m\u001b[0m\n\u001b[1;32m----> 1\u001b[1;33m \u001b[0mword\u001b[0m\u001b[1;33m[\u001b[0m\u001b[1;36m2\u001b[0m\u001b[1;33m:\u001b[0m\u001b[1;33m]\u001b[0m \u001b[1;33m=\u001b[0m \u001b[1;34m'py'\u001b[0m\u001b[1;33m\u001b[0m\u001b[1;33m\u001b[0m\u001b[0m\n\u001b[0m",
      "\u001b[1;31mTypeError\u001b[0m: 'str' object does not support item assignment"
     ]
    }
   ],
   "source": [
    "word[2:] = 'py'"
   ]
  },
  {
   "cell_type": "markdown",
   "id": "60bda782-b1ae-442f-993e-2524a507f954",
   "metadata": {},
   "source": [
    "<br>\n",
    "\n",
    "要生成不同的字符串，应新建一个字符串："
   ]
  },
  {
   "cell_type": "code",
   "execution_count": 53,
   "id": "b2e1bcd8-2023-4606-8e8a-dbc796ac9a21",
   "metadata": {},
   "outputs": [
    {
     "data": {
      "text/plain": [
       "'Jython'"
      ]
     },
     "execution_count": 53,
     "metadata": {},
     "output_type": "execute_result"
    }
   ],
   "source": [
    "'J' + word[1:]"
   ]
  },
  {
   "cell_type": "code",
   "execution_count": 54,
   "id": "00c3bd9e-13e1-44b1-bc26-088cb1ab29ed",
   "metadata": {},
   "outputs": [
    {
     "data": {
      "text/plain": [
       "'Pypy'"
      ]
     },
     "execution_count": 54,
     "metadata": {},
     "output_type": "execute_result"
    }
   ],
   "source": [
    "word[:2] + 'py'"
   ]
  },
  {
   "cell_type": "markdown",
   "id": "20709d21-4f0e-4f69-9a25-e2f1a2e32dec",
   "metadata": {},
   "source": [
    "<br>\n",
    "\n",
    "内置函数 [len()](https://docs.python.org/zh-cn/3.9/library/functions.html#len) 返回字符串的长度："
   ]
  },
  {
   "cell_type": "code",
   "execution_count": 55,
   "id": "162f0ad5-6048-4230-8c7e-e13358e48414",
   "metadata": {},
   "outputs": [
    {
     "data": {
      "text/plain": [
       "34"
      ]
     },
     "execution_count": 55,
     "metadata": {},
     "output_type": "execute_result"
    }
   ],
   "source": [
    "s = 'supercalifragilisticexpialidocious'\n",
    "len(s)"
   ]
  },
  {
   "cell_type": "markdown",
   "id": "afebb675-d896-42ec-a672-403c42137cad",
   "metadata": {},
   "source": [
    "<br>\n",
    "\n",
    "**参见:**\n",
    "\n",
    "**[文本序列类型 --- str](https://docs.python.org/zh-cn/3.9/library/stdtypes.html#textseq)**\n",
    "<br>字符串是 *序列类型* ，支持序列类型的各种操作。\n",
    "\n",
    "**[字符串的方法](https://docs.python.org/zh-cn/3.9/library/stdtypes.html#string-methods)**\n",
    "<br>字符串支持很多变形与查找方法。\n",
    "\n",
    "**[格式字符串字面值](https://docs.python.org/zh-cn/3.9/reference/lexical_analysis.html#f-strings)**\n",
    "<br>内嵌表达式的字符串字面值。\n",
    "\n",
    "**[格式字符串语法](https://docs.python.org/zh-cn/3.9/library/string.html#formatstrings)**\n",
    "<br>使用 [str.format()](https://docs.python.org/zh-cn/3.9/library/stdtypes.html#str.format) 格式化字符串。\n",
    "\n",
    "**[printf 风格的字符串格式化](https://docs.python.org/zh-cn/3.9/library/stdtypes.html#old-string-formatting)**\n",
    "<br>这里详述了用 `%` 运算符格式化字符串的操作。"
   ]
  },
  {
   "cell_type": "markdown",
   "id": "8ba35bf0-6822-4399-a2d3-8b21f480b454",
   "metadata": {},
   "source": [
    "<br>\n",
    "\n",
    "### 3.1.3. 列表\n",
    "\n",
    "Python 支持多种 *复合* 数据类型，可将不同值组合在一起。最常用的 *列表* ，是用方括号标注，逗号分隔的一组值。列表 可以包含不同类型的元素，但一般情况下，各个元素的类型相同："
   ]
  },
  {
   "cell_type": "code",
   "execution_count": 56,
   "id": "8d1c4c09-b3d8-4d0a-a724-e9c64d921e32",
   "metadata": {},
   "outputs": [
    {
     "data": {
      "text/plain": [
       "[1, 4, 9, 16, 25]"
      ]
     },
     "execution_count": 56,
     "metadata": {},
     "output_type": "execute_result"
    }
   ],
   "source": [
    "squares = [1, 4, 9, 16, 25]\n",
    "squares"
   ]
  },
  {
   "cell_type": "markdown",
   "id": "4265e7f5-8a6b-4106-82ef-5f1b6bdf17e3",
   "metadata": {},
   "source": [
    "<br>\n",
    "\n",
    "和字符串（及其他内置 [sequence](https://docs.python.org/zh-cn/3.9/glossary.html#term-sequence) 类型）一样，列表也支持索引和切片："
   ]
  },
  {
   "cell_type": "code",
   "execution_count": 57,
   "id": "48d69397-65fb-4ebd-85ea-e16a9d1f72f7",
   "metadata": {},
   "outputs": [
    {
     "data": {
      "text/plain": [
       "1"
      ]
     },
     "execution_count": 57,
     "metadata": {},
     "output_type": "execute_result"
    }
   ],
   "source": [
    "squares[0]  # indexing returns the item"
   ]
  },
  {
   "cell_type": "code",
   "execution_count": 58,
   "id": "36923d06-8c26-4918-9db0-ca0a65517e54",
   "metadata": {},
   "outputs": [
    {
     "data": {
      "text/plain": [
       "25"
      ]
     },
     "execution_count": 58,
     "metadata": {},
     "output_type": "execute_result"
    }
   ],
   "source": [
    "squares[-1]"
   ]
  },
  {
   "cell_type": "code",
   "execution_count": 59,
   "id": "4e7b9159-b81b-4596-81ec-d62697a1bc04",
   "metadata": {},
   "outputs": [
    {
     "data": {
      "text/plain": [
       "[9, 16, 25]"
      ]
     },
     "execution_count": 59,
     "metadata": {},
     "output_type": "execute_result"
    }
   ],
   "source": [
    "squares[-3:]  # slicing returns a new list"
   ]
  },
  {
   "cell_type": "markdown",
   "id": "f9949ed5-d43f-48fd-b15c-06d4d06e38bf",
   "metadata": {},
   "source": [
    "<br>\n",
    "\n",
    "切片操作返回包含请求元素的新列表。以下切片操作会返回列表的 [浅拷贝](https://docs.python.org/zh-cn/3.9/library/copy.html#shallow-vs-deep-copy)："
   ]
  },
  {
   "cell_type": "code",
   "execution_count": 60,
   "id": "38b278bb-ee9b-4d8b-aa6e-055a6188eb9c",
   "metadata": {},
   "outputs": [
    {
     "data": {
      "text/plain": [
       "[1, 4, 9, 16, 25]"
      ]
     },
     "execution_count": 60,
     "metadata": {},
     "output_type": "execute_result"
    }
   ],
   "source": [
    "squares[:]"
   ]
  },
  {
   "cell_type": "markdown",
   "id": "9bc998f1-cde0-4e27-9f2e-0930e7ef72fe",
   "metadata": {},
   "source": [
    "<br>\n",
    "\n",
    "列表还支持合并操作："
   ]
  },
  {
   "cell_type": "code",
   "execution_count": 61,
   "id": "8dacee7e-cc02-4d0a-baeb-b125529bf0e6",
   "metadata": {},
   "outputs": [
    {
     "data": {
      "text/plain": [
       "[1, 4, 9, 16, 25, 36, 49, 64, 81, 100]"
      ]
     },
     "execution_count": 61,
     "metadata": {},
     "output_type": "execute_result"
    }
   ],
   "source": [
    "squares + [36, 49, 64, 81, 100]"
   ]
  },
  {
   "cell_type": "markdown",
   "id": "b044fb17-c6e9-4d9d-8fdf-4faf31d3bd65",
   "metadata": {},
   "source": [
    "<br>\n",
    "\n",
    "与 [immutable](https://docs.python.org/zh-cn/3.9/glossary.html#term-immutable) 字符串不同, 列表是 [mutable](https://docs.python.org/zh-cn/3.9/glossary.html#term-mutable) 类型，其内容可以改变："
   ]
  },
  {
   "cell_type": "code",
   "execution_count": 62,
   "id": "14738f48-bbaa-4d49-92ef-292c90693242",
   "metadata": {},
   "outputs": [
    {
     "data": {
      "text/plain": [
       "64"
      ]
     },
     "execution_count": 62,
     "metadata": {},
     "output_type": "execute_result"
    }
   ],
   "source": [
    "cubes = [1, 8, 27, 65, 125]  # something's wrong here\n",
    "4 ** 3  # the cube of 4 is 64, not 65!"
   ]
  },
  {
   "cell_type": "code",
   "execution_count": 63,
   "id": "e5d092ac-84d3-464d-aee2-ef87da37455e",
   "metadata": {},
   "outputs": [
    {
     "data": {
      "text/plain": [
       "[1, 8, 27, 64, 125]"
      ]
     },
     "execution_count": 63,
     "metadata": {},
     "output_type": "execute_result"
    }
   ],
   "source": [
    "cubes[3] = 64  # replace the wrong value\n",
    "cubes"
   ]
  },
  {
   "cell_type": "markdown",
   "id": "d5b8c3f7-2f86-4740-ab83-81cae6e89ef8",
   "metadata": {},
   "source": [
    "<br>\n",
    "\n",
    "append() *方法* 可以在列表结尾添加新元素（详见后文）:"
   ]
  },
  {
   "cell_type": "code",
   "execution_count": 64,
   "id": "b8616e6f-a50c-4af5-bf56-b5f65a9ce669",
   "metadata": {},
   "outputs": [
    {
     "data": {
      "text/plain": [
       "[1, 8, 27, 64, 125, 216, 343]"
      ]
     },
     "execution_count": 64,
     "metadata": {},
     "output_type": "execute_result"
    }
   ],
   "source": [
    "cubes.append(216)  # add the cube of 6\n",
    "cubes.append(7 ** 3)  # and the cube of 7\n",
    "cubes"
   ]
  },
  {
   "cell_type": "markdown",
   "id": "58cfb133-20e1-46de-b593-3b0350839b37",
   "metadata": {},
   "source": [
    "<br>\n",
    "\n",
    "为切片赋值可以改变列表大小，甚至清空整个列表："
   ]
  },
  {
   "cell_type": "code",
   "execution_count": 65,
   "id": "02c0276c-6e4c-435b-b829-fda089006aa8",
   "metadata": {},
   "outputs": [
    {
     "data": {
      "text/plain": [
       "['a', 'b', 'c', 'd', 'e', 'f', 'g']"
      ]
     },
     "execution_count": 65,
     "metadata": {},
     "output_type": "execute_result"
    }
   ],
   "source": [
    "letters = ['a', 'b', 'c', 'd', 'e', 'f', 'g']\n",
    "letters"
   ]
  },
  {
   "cell_type": "code",
   "execution_count": 66,
   "id": "6fe2e42b-49cf-454b-bed1-b5e30b692f9d",
   "metadata": {},
   "outputs": [
    {
     "data": {
      "text/plain": [
       "['a', 'b', 'C', 'D', 'E', 'f', 'g']"
      ]
     },
     "execution_count": 66,
     "metadata": {},
     "output_type": "execute_result"
    }
   ],
   "source": [
    "letters[2:5] = ['C', 'D', 'E']\n",
    "letters"
   ]
  },
  {
   "cell_type": "code",
   "execution_count": 67,
   "id": "2b9c323d-6108-4c6b-bc78-868f7895514a",
   "metadata": {},
   "outputs": [
    {
     "data": {
      "text/plain": [
       "['a', 'b', 'f', 'g']"
      ]
     },
     "execution_count": 67,
     "metadata": {},
     "output_type": "execute_result"
    }
   ],
   "source": [
    "# now remove them\n",
    "letters[2:5] = []\n",
    "letters"
   ]
  },
  {
   "cell_type": "code",
   "execution_count": 68,
   "id": "5338af3d-f19a-4b8c-a9ad-794e47fac479",
   "metadata": {},
   "outputs": [
    {
     "data": {
      "text/plain": [
       "[]"
      ]
     },
     "execution_count": 68,
     "metadata": {},
     "output_type": "execute_result"
    }
   ],
   "source": [
    "# clear the list by replacing all the elements with an empty list\n",
    "letters[:] = []\n",
    "letters"
   ]
  },
  {
   "cell_type": "markdown",
   "id": "b899d620-b483-49bc-b329-9a2e6f81475a",
   "metadata": {},
   "source": [
    "<br>\n",
    "\n",
    "内置函数 [len()](https://docs.python.org/zh-cn/3.9/library/functions.html#len) 也支持列表："
   ]
  },
  {
   "cell_type": "code",
   "execution_count": 69,
   "id": "ffa697c5-1faf-47c2-8724-b680dd67d9e6",
   "metadata": {},
   "outputs": [
    {
     "data": {
      "text/plain": [
       "4"
      ]
     },
     "execution_count": 69,
     "metadata": {},
     "output_type": "execute_result"
    }
   ],
   "source": [
    "letters = ['a', 'b', 'c', 'd']\n",
    "len(letters)"
   ]
  },
  {
   "cell_type": "markdown",
   "id": "c7b434d0-69dd-41e3-a22b-b8fa17ab86ca",
   "metadata": {},
   "source": [
    "<br>\n",
    "\n",
    "还可以嵌套列表（创建包含其他列表的列表），例如："
   ]
  },
  {
   "cell_type": "code",
   "execution_count": 70,
   "id": "6d77bbc0-2126-4e5d-90f7-b887dd549990",
   "metadata": {},
   "outputs": [
    {
     "data": {
      "text/plain": [
       "[['a', 'b', 'c'], [1, 2, 3]]"
      ]
     },
     "execution_count": 70,
     "metadata": {},
     "output_type": "execute_result"
    }
   ],
   "source": [
    "a = ['a', 'b', 'c']\n",
    "n = [1, 2, 3]\n",
    "x = [a, n]\n",
    "x"
   ]
  },
  {
   "cell_type": "code",
   "execution_count": 71,
   "id": "b9784770-e2c3-4b3c-8c25-2c20e97a1929",
   "metadata": {},
   "outputs": [
    {
     "data": {
      "text/plain": [
       "['a', 'b', 'c']"
      ]
     },
     "execution_count": 71,
     "metadata": {},
     "output_type": "execute_result"
    }
   ],
   "source": [
    "x[0]"
   ]
  },
  {
   "cell_type": "code",
   "execution_count": 72,
   "id": "0212b7a8-7ef3-4041-b80f-c29419a70fc8",
   "metadata": {},
   "outputs": [
    {
     "data": {
      "text/plain": [
       "'b'"
      ]
     },
     "execution_count": 72,
     "metadata": {},
     "output_type": "execute_result"
    }
   ],
   "source": [
    "x[0][1]"
   ]
  },
  {
   "cell_type": "markdown",
   "id": "446f0a95-6ee7-4194-b3bc-26d7cba40974",
   "metadata": {},
   "source": [
    "<br>\n",
    "\n",
    "## 3.2. 走向编程的第一步\n",
    "\n",
    "当然，Python 还可以完成比二加二更复杂的任务。 例如，可以编写 [斐波那契数列](https://en.wikipedia.org/wiki/Fibonacci_number) 的初始子序列，如下所示："
   ]
  },
  {
   "cell_type": "code",
   "execution_count": 73,
   "id": "cf9473ea-18e0-4111-9581-5a9622c224c8",
   "metadata": {},
   "outputs": [
    {
     "name": "stdout",
     "output_type": "stream",
     "text": [
      "0\n",
      "1\n",
      "1\n",
      "2\n",
      "3\n",
      "5\n",
      "8\n"
     ]
    }
   ],
   "source": [
    "# Fibonacci series:\n",
    "# the sum of two elements defines the next\n",
    "a, b = 0, 1\n",
    "while a < 10:\n",
    "    print(a)\n",
    "    a, b = b, a+b"
   ]
  },
  {
   "cell_type": "markdown",
   "id": "94e1208d-5f3a-4931-921a-0ac66ab33ffb",
   "metadata": {},
   "source": [
    "<br>\n",
    "\n",
    "本例引入了几个新功能。\n",
    "\n",
    "* 第一行中的 多重赋值：变量 `a` 和 `b` 同时获得新值 0 和 1。最后一行又用了一次多重赋值，这体现在右表达式在赋值前就已经求值了。右表达式求值顺序为从左到右。\n",
    "* [while](https://docs.python.org/zh-cn/3.9/reference/compound_stmts.html#while) 循环只要条件（这里指：`a < 10`）保持为真就会一直执行。Python 和 C 一样，任何非零整数都为真，零为假。这个条件也可以是字符串或列表的值，事实上，任何序列都可以；长度非零就为真，空序列则为假。示例中的判断只是最简单的比较。比较操作符的标准写法和 C 语言一样： `<` （小于）、 `>` （大于）、 `==` （等于）、 `<=` （小于等于)、 `>=` （大于等于）及 `!=` （不等于）。\n",
    "* *循环体* 是 *缩进的* ：缩进是 Python 组织语句的方式。在交互式命令行里，得为每个缩输入制表符或空格。使用文本编辑器可以实现更复杂的输入方式；所有像样的文本编辑器都支持自动缩进。交互式输入复合语句时, 要在最后输入空白行表示结束（因为解析器不知道哪一行代码是最后一行）。注意，同一块语句的每一行的缩进相同。\n",
    "* [print()](https://docs.python.org/zh-cn/3.9/library/functions.html#print) 函数输出给定参数的值。与表达式不同（比如，之前计算器的例子），它能处理多个参数，包括浮点数与字符串。它输出的字符串不带引号，且各参数项之间会插入一个空格，这样可以实现更好的格式化操作："
   ]
  },
  {
   "cell_type": "code",
   "execution_count": 74,
   "id": "eff7ea9d-d460-4533-aee4-8fe8acd6dcf2",
   "metadata": {},
   "outputs": [
    {
     "name": "stdout",
     "output_type": "stream",
     "text": [
      "The value of i is 65536\n"
     ]
    }
   ],
   "source": [
    "i = 256*256\n",
    "print('The value of i is', i)"
   ]
  },
  {
   "cell_type": "markdown",
   "id": "a9976b79-11bc-4b80-999f-50f169ae9cd8",
   "metadata": {},
   "source": [
    "<br>\n",
    "\n",
    "关键字参数 `end` 可以取消输出后面的换行, 或用另一个字符串结尾："
   ]
  },
  {
   "cell_type": "code",
   "execution_count": 75,
   "id": "ad972858-5447-471e-af3e-9d03de1e390b",
   "metadata": {},
   "outputs": [
    {
     "name": "stdout",
     "output_type": "stream",
     "text": [
      "0,1,1,2,3,5,8,13,21,34,55,89,144,233,377,610,987,"
     ]
    }
   ],
   "source": [
    "a, b = 0, 1\n",
    "while a < 1000:\n",
    "    print(a, end=',')\n",
    "    a, b = b, a+b"
   ]
  },
  {
   "cell_type": "markdown",
   "id": "7e43e644-490c-41dd-9daf-20be825461fd",
   "metadata": {},
   "source": [
    "<br>\n",
    "\n",
    "**脚注**\n",
    "\n",
    "1. `**` 比 `-` 的优先级更高, 所以 `-3**2` 会被解释成 `-(3**2)` ，因此，结果是 `-9`。要避免这个问题，并且得到 `9`, 可以用 `(-3)**2`。\n",
    "2. 和其他语言不一样，特殊字符如 `\\n` 在单引号（`'...'`）和双引号（`\"...\"`）里的意义一样。这两种引号唯一的区别是，不需要在单引号里转义双引号 `\"`，但必须把单引号转义成 `\\'`，反之亦然。"
   ]
  }
 ],
 "metadata": {
  "kernelspec": {
   "display_name": "Python 3 (ipykernel)",
   "language": "python",
   "name": "python3"
  },
  "language_info": {
   "codemirror_mode": {
    "name": "ipython",
    "version": 3
   },
   "file_extension": ".py",
   "mimetype": "text/x-python",
   "name": "python",
   "nbconvert_exporter": "python",
   "pygments_lexer": "ipython3",
   "version": "3.9.7"
  }
 },
 "nbformat": 4,
 "nbformat_minor": 5
}
