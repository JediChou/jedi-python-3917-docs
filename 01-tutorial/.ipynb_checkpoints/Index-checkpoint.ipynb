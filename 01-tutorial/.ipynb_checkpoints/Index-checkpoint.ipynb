{
 "cells": [
  {
   "cell_type": "markdown",
   "id": "c4b943d0-ef58-4ba9-8ce1-3e7a814b8b72",
   "metadata": {},
   "source": [
    "# Python 教程\n",
    "\n",
    "Python 是一种易于学习又功能强大的编程语言。它提供了高效的高级数据结构，还能简单有效地面向对象编程。Python 优雅的语法和动态类型，以及解释型语言的本质，使它成为多数平台上写脚本和快速开发应用的理想语言。\n",
    "\n",
    "Python 解释器及丰富的标准库，提供了适用于各个主要系统平台的源码或机器码，这些可以到 Python 官网 <https://www.python.org/> 免费获取，并可自由地分发。许多免费的第三方 Python 模块、程序、工具和它们的文档，也能在这个网站上找到对应内容或链接。\n",
    "\n",
    "Python 解释器易于扩展，可以使用 C 或 C++（或者其他可以通过 C 调用的语言）扩展新的功能和数据类型。Python 也可用于可定制化软件中的扩展程序语言。\n",
    "\n",
    "这个教程非正式地介绍了 Python 语言和系统的基本概念和功能。最好在阅读的时候准备一个 Python 解释器进行练习。所有的例子都是相互独立的，所以这个教程也可以离线阅读。\n",
    "\n",
    "有关标准的对象和模块，请参阅 [Python 标准库](https://docs.python.org/zh-cn/3.9/library/index.html#library-index)。[Python 语言参考手册](https://docs.python.org/zh-cn/3.9/reference/index.html#reference-index) 提供了更正式的语言定义。想要编写 C 或者 C++ 扩展可以参考 [扩展和嵌入 Python 解释器](https://docs.python.org/zh-cn/3.9/extending/index.html#extending-index) 和 [Python/C API 参考手册](https://docs.python.org/zh-cn/3.9/c-api/index.html#c-api-index)。另外还有不少书籍深入讲解 Python。\n",
    "\n",
    "这个教程并没有完整地介绍每一个功能，甚至可能没有涉及全部的常用功能。这个教程只介绍 Python 中最值得注意的功能，也会让你体会到这个语言的风格特色。学习完这个教程，你将可以阅读和编写 Python 模块和程序，也可以开始学习 [Python 标准库](https://docs.python.org/zh-cn/3.9/library/index.html#library-index)。\n",
    "\n",
    "[术语对照表](https://docs.python.org/zh-cn/3.9/glossary.html#glossary) 也很值得一读。"
   ]
  }
 ],
 "metadata": {
  "kernelspec": {
   "display_name": "Python 3 (ipykernel)",
   "language": "python",
   "name": "python3"
  },
  "language_info": {
   "codemirror_mode": {
    "name": "ipython",
    "version": 3
   },
   "file_extension": ".py",
   "mimetype": "text/x-python",
   "name": "python",
   "nbconvert_exporter": "python",
   "pygments_lexer": "ipython3",
   "version": "3.9.7"
  }
 },
 "nbformat": 4,
 "nbformat_minor": 5
}
