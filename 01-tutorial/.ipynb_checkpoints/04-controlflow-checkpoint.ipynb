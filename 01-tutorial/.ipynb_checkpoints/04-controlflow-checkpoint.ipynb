{
 "cells": [
  {
   "cell_type": "markdown",
   "id": "a8adc2e3-9369-4193-a864-19444f4637c5",
   "metadata": {},
   "source": [
    "# 4. 其他流程控制工具\n",
    "\n",
    "除了上一章介绍的 [while](https://docs.python.org/zh-cn/3.9/reference/compound_stmts.html#while) 语句，Python 还支持其他语言中常见的流程控制语句，只是稍有不同。"
   ]
  },
  {
   "cell_type": "markdown",
   "id": "faae45ad-4579-4e90-a24e-483c216ae586",
   "metadata": {},
   "source": [
    "<br>\n",
    "\n",
    "## 4.1. if 语句\n",
    "\n",
    "最让人耳熟能详的应该是 [if](https://docs.python.org/zh-cn/3.9/reference/compound_stmts.html#if) 语句。例如："
   ]
  },
  {
   "cell_type": "code",
   "execution_count": 1,
   "id": "00ffa71d-5c4c-4ed9-a404-f4d5f05ee7b8",
   "metadata": {},
   "outputs": [
    {
     "name": "stdin",
     "output_type": "stream",
     "text": [
      "Please enter an integer:  42\n"
     ]
    }
   ],
   "source": [
    "x = int(input(\"Please enter an integer: \"))"
   ]
  },
  {
   "cell_type": "code",
   "execution_count": 2,
   "id": "d2059d41-0456-487f-949d-26cdd97e109d",
   "metadata": {},
   "outputs": [
    {
     "name": "stdout",
     "output_type": "stream",
     "text": [
      "More\n"
     ]
    }
   ],
   "source": [
    "if x < 0:\n",
    "    x = 0\n",
    "    print('Negative changed to zero')\n",
    "elif x == 0:\n",
    "    print('Zero')\n",
    "elif x == 1:\n",
    "    print('Single')\n",
    "else:\n",
    "    print('More')"
   ]
  },
  {
   "cell_type": "markdown",
   "id": "94bf3ca5-d3b0-4f00-b493-1270493872e9",
   "metadata": {},
   "source": [
    "<br>\n",
    "\n",
    "if 语句包含零个或多个 [elif](https://docs.python.org/zh-cn/3.9/reference/compound_stmts.html#elif) 子句，及可选的 [else](https://docs.python.org/zh-cn/3.9/reference/compound_stmts.html#else) 子句。关键字 'elif' 是 'else if' 的缩写，适用于避免过多的缩进。可以把 `if ... elif ... elif ..`. 序列看作是其他语言中 `switch` 或 `case` 语句的替代品。"
   ]
  },
  {
   "cell_type": "markdown",
   "id": "4ef97a01-7312-4c0e-ad43-5d7b4128ffba",
   "metadata": {},
   "source": [
    "<br>\n",
    "\n",
    "## 4.2. for 语句\n",
    "\n",
    "Python 的 [for](https://docs.python.org/zh-cn/3.9/reference/compound_stmts.html#for) 语句与 C 或 Pascal 中的不同。Python 的 for 语句不迭代算术递增数值（如 Pascal），或是给予用户定义迭代步骤和暂停条件的能力（如 C），而是迭代列表或字符串等任意序列，元素的迭代顺序与在序列中出现的顺序一致。 例如："
   ]
  },
  {
   "cell_type": "code",
   "execution_count": 3,
   "id": "3e77035f-79e3-4d0c-a3ea-54da94eb8186",
   "metadata": {},
   "outputs": [
    {
     "name": "stdout",
     "output_type": "stream",
     "text": [
      "cat 3\n",
      "window 6\n",
      "defenestrate 12\n"
     ]
    }
   ],
   "source": [
    "# Measure some strings:\n",
    "words = ['cat', 'window', 'defenestrate']\n",
    "for w in words:\n",
    "    print(w, len(w))"
   ]
  },
  {
   "cell_type": "markdown",
   "id": "f91a5aaa-99d0-446e-883d-7c6bcc785b96",
   "metadata": {},
   "source": [
    "<br>\n",
    "\n",
    "遍历某个集合的同时修改该集合的内容，很难获取想要的结果。要在遍历时修改集合的内容，应该遍历该集合的副本或创建新的集合：\n",
    "\n",
    "```python\n",
    "# Strategy:  Iterate over a copy\n",
    "for user, status in users.copy().items():\n",
    "    if status == 'inactive':\n",
    "        del users[user]\n",
    "\n",
    "# Strategy:  Create a new collection\n",
    "active_users = {}\n",
    "for user, status in users.items():\n",
    "    if status == 'active':\n",
    "        active_users[user] = status\n",
    "```\n"
   ]
  },
  {
   "cell_type": "markdown",
   "id": "c5d97eab-ea39-4136-b0be-0cfccde26116",
   "metadata": {},
   "source": [
    "<br>\n",
    "\n",
    "## 4.3. range() 函数\n",
    "\n",
    "内置函数 [range()](https://docs.python.org/zh-cn/3.9/library/stdtypes.html#range) 常用于遍历数字序列，该函数可以生成算术级数："
   ]
  },
  {
   "cell_type": "code",
   "execution_count": 4,
   "id": "ed6519eb-3726-4927-aefd-64de8c75be12",
   "metadata": {},
   "outputs": [
    {
     "name": "stdout",
     "output_type": "stream",
     "text": [
      "0\n",
      "1\n",
      "2\n",
      "3\n",
      "4\n"
     ]
    }
   ],
   "source": [
    "for i in range(5):\n",
    "    print(i)"
   ]
  },
  {
   "cell_type": "markdown",
   "id": "d30e8d4c-fee0-4b2f-842e-946ea4c02779",
   "metadata": {},
   "source": [
    "<br>\n",
    "\n",
    "生成的序列不包含给定的终止数值；`range(10)` 生成 10 个值，这是一个长度为 10 的序列，其中的元素索引都是合法的。range 可以不从 0 开始，还可以按指定幅度递增（递增幅度称为 '步进'，支持负数）："
   ]
  },
  {
   "cell_type": "code",
   "execution_count": 5,
   "id": "549644a7-a87d-462c-a239-bfbcea3edc7e",
   "metadata": {},
   "outputs": [
    {
     "data": {
      "text/plain": [
       "[5, 6, 7, 8, 9]"
      ]
     },
     "execution_count": 5,
     "metadata": {},
     "output_type": "execute_result"
    }
   ],
   "source": [
    "list(range(5, 10))"
   ]
  },
  {
   "cell_type": "code",
   "execution_count": 6,
   "id": "d8a691be-e782-43d1-9d46-fe275ebc4314",
   "metadata": {},
   "outputs": [
    {
     "data": {
      "text/plain": [
       "[0, 3, 6, 9]"
      ]
     },
     "execution_count": 6,
     "metadata": {},
     "output_type": "execute_result"
    }
   ],
   "source": [
    "list(range(0, 10, 3))"
   ]
  },
  {
   "cell_type": "code",
   "execution_count": 7,
   "id": "d513acde-7202-4f95-996f-a5f45acdc4fc",
   "metadata": {},
   "outputs": [
    {
     "data": {
      "text/plain": [
       "[-10, -40, -70]"
      ]
     },
     "execution_count": 7,
     "metadata": {},
     "output_type": "execute_result"
    }
   ],
   "source": [
    "list(range(-10, -100, -30))"
   ]
  },
  {
   "cell_type": "markdown",
   "id": "481059c2-32a5-490b-a8cd-545f2f83b45e",
   "metadata": {},
   "source": [
    "<br>\n",
    "\n",
    "[range()](https://docs.python.org/zh-cn/3.9/library/stdtypes.html#range) 和 [len()](https://docs.python.org/zh-cn/3.9/library/functions.html#len) 组合在一起，可以按索引迭代序列："
   ]
  },
  {
   "cell_type": "code",
   "execution_count": 8,
   "id": "2ff0104c-8010-4a36-9e27-f0bd51d343a9",
   "metadata": {},
   "outputs": [
    {
     "name": "stdout",
     "output_type": "stream",
     "text": [
      "0 Mary\n",
      "1 had\n",
      "2 a\n",
      "3 little\n",
      "4 lamb\n"
     ]
    }
   ],
   "source": [
    "a = ['Mary', 'had', 'a', 'little', 'lamb']\n",
    "for i in range(len(a)):\n",
    "    print(i, a[i])"
   ]
  },
  {
   "cell_type": "markdown",
   "id": "23d31d19-ac56-42df-bf10-e35e70ed405e",
   "metadata": {},
   "source": [
    "<br>\n",
    "\n",
    "不过，大多数情况下，[enumerate()](https://docs.python.org/zh-cn/3.9/library/functions.html#enumerate) 函数更便捷，详见 [循环的技巧](https://docs.python.org/zh-cn/3.9/tutorial/datastructures.html#tut-loopidioms) 。\n",
    "\n",
    "如果只输出 range，会出现意想不到的结果："
   ]
  },
  {
   "cell_type": "code",
   "execution_count": 9,
   "id": "5de4feed-165a-4516-a157-76a35e6620fa",
   "metadata": {},
   "outputs": [
    {
     "data": {
      "text/plain": [
       "range(0, 10)"
      ]
     },
     "execution_count": 9,
     "metadata": {},
     "output_type": "execute_result"
    }
   ],
   "source": [
    "range(10)"
   ]
  },
  {
   "cell_type": "markdown",
   "id": "774e584d-d077-4711-bb09-2f9b650c9935",
   "metadata": {},
   "source": [
    "<br>\n",
    "\n",
    "[range()](https://docs.python.org/zh-cn/3.9/library/stdtypes.html#range) 返回对象的操作和列表很像，但其实这两种对象不是一回事。迭代时，该对象基于所需序列返回连续项，并没有生成真正的列表，从而节省了空间。\n",
    "\n",
    "这种对象称为可迭代对象 [iterable](https://docs.python.org/zh-cn/3.9/glossary.html#term-iterable)，函数或程序结构可通过该对象获取连续项，直到所有元素全部迭代完毕。[for](https://docs.python.org/zh-cn/3.9/reference/compound_stmts.html#for) 语句就是这样的架构，[sum()](https://docs.python.org/zh-cn/3.9/library/functions.html#sum) 是一种把可迭代对象作为参数的函数：\n"
   ]
  },
  {
   "cell_type": "code",
   "execution_count": 10,
   "id": "e680ab72-16ff-4095-99a3-1dca7bfb9ad0",
   "metadata": {},
   "outputs": [
    {
     "data": {
      "text/plain": [
       "6"
      ]
     },
     "execution_count": 10,
     "metadata": {},
     "output_type": "execute_result"
    }
   ],
   "source": [
    "sum(range(4))  # 0 + 1 + 2 + 3"
   ]
  },
  {
   "cell_type": "markdown",
   "id": "f0842553-d268-4444-b00f-b70ca7f63e43",
   "metadata": {},
   "source": [
    "<br>\n",
    "\n",
    "下文将介绍更多返回可迭代对象或把可迭代对象当作参数的函数。 在 [数据结构](https://docs.python.org/zh-cn/3.9/tutorial/datastructures.html#tut-structures) 这一章节中，我们将讨论有关 [list()](https://docs.python.org/zh-cn/3.9/library/stdtypes.html#list) 的更多细节。"
   ]
  },
  {
   "cell_type": "markdown",
   "id": "3edfebe6-5604-4107-8f05-9569889ce931",
   "metadata": {},
   "source": [
    "<br>\n",
    "\n",
    "## 4.4. 循环中的 break、continue 语句及 else 子句\n",
    "\n",
    "break 语句和 C 中的类似，用于跳出最近的 for 或 while 循环。"
   ]
  }
 ],
 "metadata": {
  "kernelspec": {
   "display_name": "Python 3 (ipykernel)",
   "language": "python",
   "name": "python3"
  },
  "language_info": {
   "codemirror_mode": {
    "name": "ipython",
    "version": 3
   },
   "file_extension": ".py",
   "mimetype": "text/x-python",
   "name": "python",
   "nbconvert_exporter": "python",
   "pygments_lexer": "ipython3",
   "version": "3.9.7"
  }
 },
 "nbformat": 4,
 "nbformat_minor": 5
}
