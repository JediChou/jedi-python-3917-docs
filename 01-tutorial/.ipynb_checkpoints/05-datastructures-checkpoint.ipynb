{
 "cells": [
  {
   "cell_type": "markdown",
   "id": "f53f6710-98ec-4bc0-8d0b-b018807dead2",
   "metadata": {},
   "source": [
    "# 5. 数据结构\n",
    "\n",
    "[Reference Link](https://docs.python.org/zh-cn/3.9/tutorial/datastructures.html)\n",
    "\n",
    "本章深入讲解之前学过的一些内容，同时，还增加了新的知识点。"
   ]
  },
  {
   "cell_type": "markdown",
   "id": "96dfe84f-94fc-4429-92a9-a3d325c28424",
   "metadata": {},
   "source": [
    "<br>\n",
    "\n",
    "## 5.1. 列表详解\n",
    "\n",
    "列表数据类型支持很多方法，列表对象的所有方法所示如下：\n",
    "\n",
    "`list.append(x)`<br>\n",
    "&nbsp;&nbsp;&nbsp;&nbsp;在列表末尾添加一个元素，相当于 `a[len(a):] = [x]` 。\n",
    "\n",
    "`list.extend(iterable)`<br>\n",
    "&nbsp;&nbsp;&nbsp;&nbsp;用可迭代对象的元素扩展列表。相当于 `a[len(a):] = iterable` 。\n"
   ]
  }
 ],
 "metadata": {
  "kernelspec": {
   "display_name": "Python 3 (ipykernel)",
   "language": "python",
   "name": "python3"
  },
  "language_info": {
   "codemirror_mode": {
    "name": "ipython",
    "version": 3
   },
   "file_extension": ".py",
   "mimetype": "text/x-python",
   "name": "python",
   "nbconvert_exporter": "python",
   "pygments_lexer": "ipython3",
   "version": "3.9.7"
  }
 },
 "nbformat": 4,
 "nbformat_minor": 5
}
